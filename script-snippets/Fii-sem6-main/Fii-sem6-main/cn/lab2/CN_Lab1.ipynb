{
 "cells": [
  {
   "cell_type": "markdown",
   "id": "ed42f624",
   "metadata": {},
   "source": [
    "### Problema 1 ###"
   ]
  },
  {
   "cell_type": "code",
   "execution_count": 1,
   "id": "84de9e8c",
   "metadata": {},
   "outputs": [
    {
     "name": "stdout",
     "output_type": "stream",
     "text": [
      "1.0000000000000001e-16\n",
      "16\n"
     ]
    }
   ],
   "source": [
    "import random\n",
    "\n",
    "pc = 10 ^ m # initial value for precision\n",
    "for counter, i in enumerate(range(20)):\n",
    "    if (1 + pc) != 1:\n",
    "        pc = pc / 10\n",
    "    else:\n",
    "        break\n",
    "print(pc)\n",
    "print(counter)"
   ]
  },
  {
   "cell_type": "markdown",
   "id": "fa62cbcb",
   "metadata": {},
   "source": [
    "### Problema 2 ###"
   ]
  },
  {
   "cell_type": "code",
   "execution_count": 11,
   "id": "2735b187",
   "metadata": {},
   "outputs": [
    {
     "name": "stdout",
     "output_type": "stream",
     "text": [
      "False\n"
     ]
    }
   ],
   "source": [
    "a = 1e-1\n",
    "b = 1e-1 # try to make a + b be equal to pc\n",
    "c = 1e-1\n",
    "print(((a + b)  + c) == (a + (b + c)))"
   ]
  },
  {
   "cell_type": "code",
   "execution_count": 8,
   "id": "c03429ba",
   "metadata": {},
   "outputs": [
    {
     "name": "stdout",
     "output_type": "stream",
     "text": [
      "False\n"
     ]
    }
   ],
   "source": [
    "a = 1e-1\n",
    "b = 1e-1\n",
    "c = 1e-1\n",
    "\n",
    "print(((a * b) * c) == (a * (b * c)))"
   ]
  },
  {
   "cell_type": "markdown",
   "id": "3a1fe732",
   "metadata": {},
   "source": [
    "### Problema 3 ###"
   ]
  },
  {
   "cell_type": "markdown",
   "id": "5740a18f",
   "metadata": {},
   "source": [
    "```python\n",
    "def Strasses(A, B, q, q_min):\n",
    "    if q == q_min:\n",
    "        return do_normal_multiplication(A, B)\n",
    "    A11, A12, A21, A22 = split_matrix_into_blocks(A)\n",
    "    B11, B12, B21, B22 = split_matrix_into_blocks(B)\n",
    "    \n",
    "    P1 = Strassen(A11 + A22, B11 + B22, q // 2, q_min)\n",
    "    P2 = Strassen(A21 + A22, B11, q // 2, q_min)\n",
    "    P3 = Strassen(A11, B12 - B22, q // 2, q_min)\n",
    "    P4 = Strassen(A22, B21 - B11, q // 2, q_min)\n",
    "    P5 = Strassen(A11 + A12, B22, q // 2, q_min)\n",
    "    P6 = Strassen(A21 - A11, B11 + B12, q // 2, q_min)\n",
    "    P7 = Strassen(A12 - A22, B21 + B22, q // 2, q_min)\n",
    "    \n",
    "    C11 = P1 + P4 - P5 + P7\n",
    "    C12 = P3 + P5\n",
    "    C21 = P2 + P4\n",
    "    C22 = P1 + P3 - P2 + P6\n",
    "    \n",
    "    return make_matrix(C11, C12, C21, C22)\n",
    "    \n",
    "```"
   ]
  },
  {
   "cell_type": "code",
   "execution_count": null,
   "id": "801a944e",
   "metadata": {},
   "outputs": [],
   "source": []
  },
  {
   "cell_type": "code",
   "execution_count": null,
   "id": "b624c298",
   "metadata": {},
   "outputs": [],
   "source": []
  }
 ],
 "metadata": {
  "kernelspec": {
   "display_name": "Python 3",
   "language": "python",
   "name": "python3"
  },
  "language_info": {
   "codemirror_mode": {
    "name": "ipython",
    "version": 3
   },
   "file_extension": ".py",
   "mimetype": "text/x-python",
   "name": "python",
   "nbconvert_exporter": "python",
   "pygments_lexer": "ipython3",
   "version": "3.9.13"
  },
  "vscode": {
   "interpreter": {
    "hash": "bf75068fc0a92c8943419a81fa5d494501cbc9abc3d6baa21b77ee9da992efe7"
   }
  }
 },
 "nbformat": 4,
 "nbformat_minor": 5
}
