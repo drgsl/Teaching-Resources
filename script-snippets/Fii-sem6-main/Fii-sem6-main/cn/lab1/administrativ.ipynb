{
 "cells": [
  {
   "attachments": {},
   "cell_type": "markdown",
   "metadata": {},
   "source": [
    "radumiron2006@gmail.com"
   ]
  },
  {
   "attachments": {},
   "cell_type": "markdown",
   "metadata": {},
   "source": [
    "https://profs.info.uaic.ro/~ancai/CN/"
   ]
  },
  {
   "attachments": {},
   "cell_type": "markdown",
   "metadata": {},
   "source": [
    "- teams of 2\n",
    "\n",
    "- trimitem temele la finalul semestrului profei, e posibil sa fie trecut printr un soft antiplagiat\n",
    "\n",
    "- test final if not passed from labs, the test is from course.\n",
    "\n",
    "- attendence not mandatory\n",
    "- can present multiple homeworks in one lab\n",
    "\n",
    "\n",
    "- passing = homework points\n",
    "- *there are bonus points \n",
    "- *for graphical interface\n",
    "- **cool implementations\n",
    "- ** top3 teams that finish homeworks get a bonus\n",
    "- *in-lab exercises\n",
    "\n",
    "- copiat tema = -600puncte nu mai treci"
   ]
  }
 ],
 "metadata": {
  "kernelspec": {
   "display_name": "Python 3",
   "language": "python",
   "name": "python3"
  },
  "language_info": {
   "name": "python",
   "version": "3.10.6 (main, Aug 10 2022, 11:40:04) [GCC 11.3.0]"
  },
  "orig_nbformat": 4,
  "vscode": {
   "interpreter": {
    "hash": "916dbcbb3f70747c44a77c7bcd40155683ae19c65e1c03b4aa3499c5328201f1"
   }
  }
 },
 "nbformat": 4,
 "nbformat_minor": 2
}
