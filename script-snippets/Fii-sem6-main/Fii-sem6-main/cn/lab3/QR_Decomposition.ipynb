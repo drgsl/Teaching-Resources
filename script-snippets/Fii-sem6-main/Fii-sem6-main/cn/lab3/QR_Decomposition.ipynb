{
 "cells": [
  {
   "attachments": {},
   "cell_type": "markdown",
   "metadata": {},
   "source": [
    "# QR Decomposition"
   ]
  },
  {
   "attachments": {
    "image.png": {
     "image/png": "[encoded data removed]"
    }
   },
   "cell_type": "markdown",
   "metadata": {},
   "source": [
    "![image.png](attachment:image.png)"
   ]
  },
  {
   "attachments": {
    "image.png": {
     "image/png": "[encoded data removed]"
    }
   },
   "cell_type": "markdown",
   "metadata": {},
   "source": [
    "***\n",
    "### 1. Compute the following vector b: ![image.png](attachment:image.png)\n",
    "***"
   ]
  },
  {
   "attachments": {},
   "cell_type": "markdown",
   "metadata": {},
   "source": [
    "***\n",
    "#### Python implementation\n",
    "***"
   ]
  },
  {
   "cell_type": "code",
   "execution_count": 3,
   "metadata": {},
   "outputs": [],
   "source": [
    "def calculate_b(A, s):\n",
    "    n, _ = A.shape\n",
    "    b = []\n",
    "    for i in range(n):\n",
    "        element = 0\n",
    "        for j in range(n):\n",
    "            element += s[j] * A[i][j]\n",
    "        b.append(element)\n",
    "    return b"
   ]
  },
  {
   "cell_type": "code",
   "execution_count": 16,
   "metadata": {},
   "outputs": [
    {
     "name": "stdout",
     "output_type": "stream",
     "text": [
      "B =  [-94.35869494039582, 154.23993458816213, 123.23641156468435, -107.08387755430006, -265.24791595531644, -411.99158905886776, 201.33264355427215, 147.83078599956542, -74.75606346488243, 241.33042578048835, 412.92710994797926, -471.43141225143233, 175.64427712275833, 88.70703791419513, -99.15345048283079, 193.47523876734962, -193.28784973264825, 152.81856884603545, 28.11671878371278, 261.32743831442485, 149.6492510331909, -104.49397164330037, -86.38555132025496, 667.3383944717677, 106.03545104932307, 288.53183480735487, 402.17201695735014, 49.87058983669223, -15.879194864549639, -212.05702348277464, -399.39556564553595, -552.6272970030739, -123.1133099597751, 214.60000729925653, -155.6126863273346, -313.5079363652341, 122.3385668726164, 113.24917974332566, 37.459877329789016, 11.039732264789816, 207.66447100826426, 147.62921737272424, -317.4936414855787, -72.6733163524023, -318.5350585428018, 40.26602471564155, -214.0843322687745, 277.57742000924225, -170.9643769822307, -214.07492278699317, -432.2565854978858, -397.3941057287966, -42.113753451111506, 28.32971753184267, 239.5560645762373, 173.91726334207564, 362.5243512010295, 17.144476806401464, -33.0336947203229, -283.04281326419976, -206.70137679837384]\n"
     ]
    }
   ],
   "source": [
    "import numpy as np\n",
    "\n",
    "n = 3\n",
    "eps = 10 ** -16\n",
    "A = np.array([\n",
    "    [1, 2, 3],\n",
    "    [4, 5, 6],\n",
    "    [7, 8, 10]\n",
    "])\n",
    "A = A.astype('float64')\n",
    "s = np.array([1, 2, 3])\n",
    "\n",
    "n, eps, A, s = init_values()\n",
    "\n",
    "if A.shape[0] != s.shape[0] != n:\n",
    "    print(\"Invalid measurements\")\n",
    "    raise Exception\n",
    "\n",
    "b = calculate_b(A, s)\n",
    "print(\"B = \", b)"
   ]
  },
  {
   "attachments": {},
   "cell_type": "markdown",
   "metadata": {},
   "source": [
    "***\n",
    "### 2. Implement the QR decomposition for matrix A using Householder’s algorithm\n",
    "***"
   ]
  },
  {
   "cell_type": "code",
   "execution_count": 6,
   "metadata": {},
   "outputs": [],
   "source": [
    "def qr_householder(A):\n",
    "    m, n = A.shape\n",
    "    R = A.copy()\n",
    "    Q = np.identity(m)\n",
    "    for k in range(n):\n",
    "        # Compute the Householder reflection vector\n",
    "        x = R[k:, k]\n",
    "        e = np.zeros_like(x)\n",
    "        e[0] = np.sign(x[0])\n",
    "        v = np.linalg.norm(x) * e + x\n",
    "        v = v / np.linalg.norm(v)\n",
    "\n",
    "        # Apply the Householder reflection to R\n",
    "        R[k:, :] -= 2 * np.outer(v, v.T @ R[k:, :])\n",
    "\n",
    "        # Apply the Householder reflection to Q\n",
    "        Q[:, k:] -= 2 * Q[:, k:] @ np.outer(v, v.T)\n",
    "\n",
    "    return Q, R"
   ]
  },
  {
   "cell_type": "code",
   "execution_count": 17,
   "metadata": {},
   "outputs": [
    {
     "name": "stdout",
     "output_type": "stream",
     "text": [
      "Q:\n",
      " [[-0.20514501  0.20010802  0.01271144 ... -0.1068862   0.17577727\n",
      "  -0.05871781]\n",
      " [ 0.16567469 -0.21315769 -0.17249851 ... -0.00900153 -0.06591357\n",
      "   0.25345411]\n",
      " [ 0.17834934 -0.06654916 -0.15184779 ... -0.05144563  0.08158412\n",
      "  -0.04597438]\n",
      " ...\n",
      " [ 0.08252593  0.19898419  0.2067884  ... -0.17899854  0.25275067\n",
      "   0.03029199]\n",
      " [ 0.20687702  0.11901751  0.03385764 ... -0.02800926  0.2100374\n",
      "   0.08051411]\n",
      " [-0.05317767 -0.01528537  0.02532551 ... -0.06496401 -0.0318175\n",
      "  -0.00149561]]\n",
      "Q Real:\n",
      " [[-0.20514501  0.20010802  0.01271144 ... -0.1068862   0.17577727\n",
      "   0.05871781]\n",
      " [ 0.16567469 -0.21315769 -0.17249851 ... -0.00900153 -0.06591357\n",
      "  -0.25345411]\n",
      " [ 0.17834934 -0.06654916 -0.15184779 ... -0.05144563  0.08158412\n",
      "   0.04597438]\n",
      " ...\n",
      " [ 0.08252593  0.19898419  0.2067884  ... -0.17899854  0.25275067\n",
      "  -0.03029199]\n",
      " [ 0.20687702  0.11901751  0.03385764 ... -0.02800926  0.2100374\n",
      "  -0.08051411]\n",
      " [-0.05317767 -0.01528537  0.02532551 ... -0.06496401 -0.0318175\n",
      "   0.00149561]]\n",
      "R:\n",
      " [[ 4.80948598e+01  8.33438217e-01 -2.27307565e+00 ... -6.79231410e+00\n",
      "   8.02110930e+00 -6.64513915e-02]\n",
      " [-1.92026828e-15  4.35121802e+01 -2.15888661e+00 ... -6.92109616e-01\n",
      "  -1.54174945e+01  1.68942398e-01]\n",
      " [ 4.55640253e-17 -1.68749508e-15  4.69037725e+01 ... -2.10687641e+00\n",
      "  -5.05495058e+00 -1.29823724e+01]\n",
      " ...\n",
      " [ 1.48578968e-15 -6.67717295e-16 -7.05805021e-16 ... -1.00446608e+01\n",
      "   1.10846718e+01 -6.02229784e+00]\n",
      " [-1.78095884e-15 -3.39679644e-16 -1.48960791e-16 ...  1.25570442e-15\n",
      "   1.14913623e+01  4.31968994e+00]\n",
      " [ 5.31422769e-16  1.83184944e-15  7.15636775e-17 ...  3.04667214e-17\n",
      "   1.77635684e-15  1.11942704e+01]]\n",
      "R Real:\n",
      " [[ 48.09485977   0.83343822  -2.27307565 ...  -6.7923141    8.0211093\n",
      "   -0.06645139]\n",
      " [  0.          43.51218019  -2.15888661 ...  -0.69210962 -15.41749449\n",
      "    0.1689424 ]\n",
      " [  0.           0.          46.90377251 ...  -2.10687641  -5.05495058\n",
      "  -12.98237243]\n",
      " ...\n",
      " [  0.           0.           0.         ... -10.04466081  11.08467178\n",
      "   -6.02229784]\n",
      " [  0.           0.           0.         ...   0.          11.49136225\n",
      "    4.31968994]\n",
      " [  0.           0.           0.         ...   0.           0.\n",
      "  -11.19427036]]\n"
     ]
    }
   ],
   "source": [
    "Q, R = qr_householder(A)\n",
    "Q_real, R_real = np.linalg.qr(A)\n",
    "print(\"Q:\\n\", Q)\n",
    "print(\"Q Real:\\n\", Q_real)\n",
    "print(\"R:\\n\", R)\n",
    "print(\"R Real:\\n\", R_real)"
   ]
  },
  {
   "attachments": {},
   "cell_type": "markdown",
   "metadata": {},
   "source": [
    "***\n",
    "### 3. Solve the linear system Ax = b using the QR decomposition\n",
    "***"
   ]
  },
  {
   "cell_type": "code",
   "execution_count": 8,
   "metadata": {},
   "outputs": [],
   "source": [
    "def solve_qr(Q, R, b):\n",
    "    y = Q.T @ b\n",
    "    x = np.linalg.solve(R, y)\n",
    "    return x"
   ]
  },
  {
   "cell_type": "code",
   "execution_count": 9,
   "metadata": {},
   "outputs": [
    {
     "name": "stdout",
     "output_type": "stream",
     "text": [
      "\n",
      "X_HOUSEHOLDER: [1. 2. 3.]\n"
     ]
    }
   ],
   "source": [
    "x_householder = solve_qr(Q, R, b)\n",
    "\n",
    "print(\"\\nX_HOUSEHOLDER:\", x_householder)"
   ]
  },
  {
   "attachments": {
    "image.png": {
     "image/png": "[encoded data removed]"
    }
   },
   "cell_type": "markdown",
   "metadata": {},
   "source": [
    "#### 3.2 Compute and display: ![image.png](attachment:image.png)"
   ]
  },
  {
   "attachments": {},
   "cell_type": "markdown",
   "metadata": {},
   "source": [
    "- `Xqr` is using the QR decomposition implemented in numpy\n",
    "- `xHouseholder` is the QR decomposition computed at item 2"
   ]
  },
  {
   "cell_type": "code",
   "execution_count": 18,
   "metadata": {},
   "outputs": [
    {
     "name": "stdout",
     "output_type": "stream",
     "text": [
      "X_HOUSEHOLDER: [ 5.99898151e+00  5.98704894e+00 -7.66457327e+00 -6.78011930e+00\n",
      "  9.11751913e+00 -5.02871770e-01 -4.06323945e+00 -2.79463295e+00\n",
      " -7.48828086e+00  2.87989577e+00  7.77118705e+00 -2.00720408e+00\n",
      "  3.02153744e+00  4.25426206e+00  4.04219488e-01  6.68298718e+00\n",
      "  2.89115058e-03 -5.06332264e+00 -3.44357893e+00  4.94728742e+00\n",
      " -4.14392630e+00  2.43832312e+00  5.96483843e+00 -8.43167608e+00\n",
      "  1.98459674e+00 -8.71689339e+00 -8.92636468e+00  9.88946493e+00\n",
      " -8.07169927e+00  7.45497877e+00  9.20889265e+00 -5.34475142e+00\n",
      " -6.51526843e+00  4.03825386e+00 -6.11265699e+00 -1.27792895e+00\n",
      "  1.36308496e-01 -4.32280920e+00 -5.18436305e+00  2.32377824e+00\n",
      "  4.87082753e+00  7.49132863e+00 -4.25545164e+00 -4.26464667e+00\n",
      "  5.22548798e+00 -1.24821636e+00 -9.65756692e+00 -6.62806230e+00\n",
      " -8.07219962e+00  1.00014559e+00 -5.84030966e+00  1.28499271e+00\n",
      "  7.20780146e-01  1.11481121e+00  7.01824928e+00  8.38296830e-01\n",
      "  4.06290947e+00 -7.37877070e+00 -5.78439746e+00  3.34757813e+00\n",
      " -3.41295363e+00]\n",
      "X-qr [ 5.99898151e+00  5.98704894e+00 -7.66457327e+00 -6.78011930e+00\n",
      "  9.11751913e+00 -5.02871770e-01 -4.06323945e+00 -2.79463295e+00\n",
      " -7.48828086e+00  2.87989577e+00  7.77118705e+00 -2.00720408e+00\n",
      "  3.02153744e+00  4.25426206e+00  4.04219488e-01  6.68298718e+00\n",
      "  2.89115058e-03 -5.06332264e+00 -3.44357893e+00  4.94728742e+00\n",
      " -4.14392630e+00  2.43832312e+00  5.96483843e+00 -8.43167608e+00\n",
      "  1.98459674e+00 -8.71689339e+00 -8.92636468e+00  9.88946493e+00\n",
      " -8.07169927e+00  7.45497877e+00  9.20889265e+00 -5.34475142e+00\n",
      " -6.51526843e+00  4.03825386e+00 -6.11265699e+00 -1.27792895e+00\n",
      "  1.36308496e-01 -4.32280920e+00 -5.18436305e+00  2.32377824e+00\n",
      "  4.87082753e+00  7.49132863e+00 -4.25545164e+00 -4.26464667e+00\n",
      "  5.22548798e+00 -1.24821636e+00 -9.65756692e+00 -6.62806230e+00\n",
      " -8.07219962e+00  1.00014559e+00 -5.84030966e+00  1.28499271e+00\n",
      "  7.20780146e-01  1.11481121e+00  7.01824928e+00  8.38296830e-01\n",
      "  4.06290947e+00 -7.37877070e+00 -5.78439746e+00  3.34757813e+00\n",
      " -3.41295363e+00]\n",
      "Norm:  3.315903466826433e-13\n"
     ]
    }
   ],
   "source": [
    "x_householder = solve_qr(Q, R, b)\n",
    "x_qr = solve_qr(Q_real, R_real, b)\n",
    "print(\"X_HOUSEHOLDER:\", x_householder)\n",
    "print(\"X-qr\", x_qr)\n",
    "print(\"Norm: \", np.linalg.norm(x_householder - x_qr))"
   ]
  },
  {
   "attachments": {},
   "cell_type": "markdown",
   "metadata": {},
   "source": [
    "***\n",
    "### 4. Compute and display the following errors\n",
    "***"
   ]
  },
  {
   "attachments": {
    "image.png": {
     "image/png": "[encoded data removed]"
    }
   },
   "cell_type": "markdown",
   "metadata": {},
   "source": [
    "![image.png](attachment:image.png)"
   ]
  },
  {
   "cell_type": "code",
   "execution_count": 11,
   "metadata": {},
   "outputs": [
    {
     "name": "stdout",
     "output_type": "stream",
     "text": [
      "\n",
      "\n",
      "A*x_householder - b =  3.552713678800501e-15\n",
      "A*x_qr - b =  3.552713678800501e-15\n",
      "x_householder -s / s =  6.713997766802522e-16\n",
      "x_qr - s / s =  2.6514514068169923e-15\n"
     ]
    }
   ],
   "source": [
    "print(\"\\n\\nA*x_householder - b = \", np.linalg.norm(np.dot(A, x_householder) - b))\n",
    "print(\"A*x_qr - b = \", np.linalg.norm(np.dot(A, x_householder) - b))\n",
    "print(\"x_householder -s / s = \", np.linalg.norm(x_householder - s) / np.linalg.norm(s))\n",
    "print(\"x_qr - s / s = \", np.linalg.norm(x_qr - s) / np.linalg.norm(s))"
   ]
  },
  {
   "attachments": {},
   "cell_type": "markdown",
   "metadata": {},
   "source": [
    "***\n",
    "### 5. Compute the inverse matrix of matrix A using the QR decomposition computed at item 2.\n",
    "***"
   ]
  },
  {
   "cell_type": "code",
   "execution_count": 12,
   "metadata": {},
   "outputs": [],
   "source": [
    "def inverse_qr(A):\n",
    "    Q, R = np.linalg.qr(A)\n",
    "    n = A.shape[0]\n",
    "    A_inv = np.zeros((n, n))\n",
    "    for i in range(n):\n",
    "        e = np.zeros(n)\n",
    "        e[i] = 1\n",
    "        y = Q.T @ e\n",
    "        x = np.linalg.solve(R, y)\n",
    "        A_inv[:, i] = x\n",
    "    return A_inv"
   ]
  },
  {
   "cell_type": "code",
   "execution_count": 13,
   "metadata": {},
   "outputs": [
    {
     "name": "stdout",
     "output_type": "stream",
     "text": [
      "A_householder:\n",
      " [[-0.66666667 -1.33333333  1.        ]\n",
      " [-0.66666667  3.66666667 -2.        ]\n",
      " [ 1.         -2.          1.        ]]\n"
     ]
    }
   ],
   "source": [
    "A_householder = inverse_qr(A)\n",
    "\n",
    "print(\"A_householder:\\n\", A_householder)"
   ]
  },
  {
   "attachments": {
    "image.png": {
     "image/png": "[encoded data removed]"
    }
   },
   "cell_type": "markdown",
   "metadata": {},
   "source": [
    "#### 5.2 Compare it with inverse matrix computed using the corresponding function from the library. Display the norm: ![image.png](attachment:image.png)\n"
   ]
  },
  {
   "cell_type": "code",
   "execution_count": 14,
   "metadata": {},
   "outputs": [
    {
     "name": "stdout",
     "output_type": "stream",
     "text": [
      "\n",
      "\n",
      "A**-1 householder - A library =  7.727024638495423e-15\n"
     ]
    }
   ],
   "source": [
    "A_library = np.linalg.inv(A)\n",
    "print(\"\\n\\nA**-1 householder - A library = \", np.linalg.norm(A_householder - A_library))"
   ]
  },
  {
   "attachments": {},
   "cell_type": "markdown",
   "metadata": {},
   "source": [
    "***\n",
    "### 6. Write your program with the possibility of random initialization of the input data \n",
    "(thus your program can run for any value of n).\n",
    "***"
   ]
  },
  {
   "cell_type": "code",
   "execution_count": 15,
   "metadata": {},
   "outputs": [],
   "source": [
    "def init_values():\n",
    "    n = int(np.random.uniform(3, 100))\n",
    "    eps = 10 ** -16\n",
    "    A = np.random.uniform(-10, 10, size=(n, n))\n",
    "\n",
    "    while np.linalg.det(A) == 0:\n",
    "        A = np.random.uniform(-10, 10, size=(n, n))\n",
    "    s = np.random.uniform(-10, 10, size=n)\n",
    "    return n, eps, A, s\n"
   ]
  }
 ],
 "metadata": {
  "kernelspec": {
   "display_name": "Python 3",
   "language": "python",
   "name": "python3"
  },
  "language_info": {
   "codemirror_mode": {
    "name": "ipython",
    "version": 3
   },
   "file_extension": ".py",
   "mimetype": "text/x-python",
   "name": "python",
   "nbconvert_exporter": "python",
   "pygments_lexer": "ipython3",
   "version": "3.10.6"
  },
  "orig_nbformat": 4
 },
 "nbformat": 4,
 "nbformat_minor": 2
}
