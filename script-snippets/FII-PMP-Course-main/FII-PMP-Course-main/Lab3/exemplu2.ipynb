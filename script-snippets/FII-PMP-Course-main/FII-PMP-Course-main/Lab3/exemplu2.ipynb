{
 "cells": [
  {
   "cell_type": "markdown",
   "metadata": {},
   "source": [
    "Un anumit produs se poate afla la vanzare (20%) cu reducere sau cu pret intreg. Cumparatorul poate avea nevoie urgenta (5%) de produsul respectiv sau nu. Cumparatorul ia decizia sa cumpere produsul dupa urmatoarele reguli:\n",
    "1. produsul este la reducere si are nevoie urgent de el -> cumperi 100%\n",
    "2. produsul este la reducere dar nu are nevoie urgent de el -> cumperi 50%\n",
    "3. fara reducere si are nevoie urgent -> cumperi 80% \n",
    "4. fara reducere si nu are nevoie urgent -> cumperi 20%\n",
    "\n",
    "Afisati probabilitatea ca cumparatorul sa fi avut nevoie urgenta de produs daca stim ca acesta a cumparat produsul.\n",
    "\n",
    "**Raspuns teoretic:**\n",
    "\n",
    "$$\n",
    "P(U=1|C=1)=\\frac{P(C=1|U=1)P(U=1)}{P(C=1|U=1)P(U=1)+P(C=1|U=0)P(U=0)}.\n",
    "$$\n",
    "Avem:\n",
    "\\begin{align*}\n",
    "P(C=1|U=1)  & =P(C=1|U=1,R=1)P(R=1)+P(C=1|U=1,R=0)P(R=0)\\\\\n",
    "& =1\\cdot0.2+0.8\\cdot0.8=0.84;\\\\\n",
    "P(C=1|U=0)  & =P(C=1|U=0,R=1)P(R=1)+P(C=1|U=0,R=0)P(R=0)\\\\\n",
    "& =0.5\\cdot0.2+0.2\\cdot0.8=0.26.\n",
    "\\end{align*}\n",
    "Deci\n",
    "$$\n",
    "P(U=1|C=1)=\\frac{0.84\\cdot0.05}{0.84\\cdot0.05+0.26\\cdot0.95}=0.14533.\n",
    "$$"
   ]
  },
  {
   "cell_type": "code",
   "execution_count": 1,
   "metadata": {},
   "outputs": [
    {
     "name": "stderr",
     "output_type": "stream",
     "text": [
      "WARNING (theano.configdefaults): g++ not available, if using conda: `conda install m2w64-toolchain`\n",
      "WARNING (theano.configdefaults): g++ not detected ! Theano will be unable to execute optimized C-implementations (for both CPU and GPU) and will default to Python implementations. Performance will be severely degraded. To remove this warning, set Theano flags cxx to an empty string.\n",
      "WARNING (theano.tensor.blas): Using NumPy C-API based implementation for BLAS functions.\n"
     ]
    }
   ],
   "source": [
    "import matplotlib.pyplot as plt\n",
    "import numpy as np\n",
    "import pandas as pd\n",
    "import pymc3 as pm\n",
    "import arviz as az"
   ]
  },
  {
   "cell_type": "code",
   "execution_count": 2,
   "metadata": {},
   "outputs": [
    {
     "name": "stderr",
     "output_type": "stream",
     "text": [
      "C:\\Users\\CristianSimionescu\\AppData\\Roaming\\Python\\Python39\\site-packages\\deprecat\\classic.py:215: FutureWarning: In v4.0, pm.sample will return an `arviz.InferenceData` object instead of a `MultiTrace` by default. You can pass return_inferencedata=True or return_inferencedata=False to be safe and silence this warning.\n",
      "  return wrapped_(*args_, **kwargs_)\n",
      "Multiprocess sampling (4 chains in 4 jobs)\n",
      "BinaryGibbsMetropolis: [U, R]\n"
     ]
    },
    {
     "data": {
      "text/html": [
       "\n",
       "<style>\n",
       "    /* Turns off some styling */\n",
       "    progress {\n",
       "        /* gets rid of default border in Firefox and Opera. */\n",
       "        border: none;\n",
       "        /* Needs to be in here for Safari polyfill so background images work as expected. */\n",
       "        background-size: auto;\n",
       "    }\n",
       "    progress:not([value]), progress:not([value])::-webkit-progress-bar {\n",
       "        background: repeating-linear-gradient(45deg, #7e7e7e, #7e7e7e 10px, #5c5c5c 10px, #5c5c5c 20px);\n",
       "    }\n",
       "    .progress-bar-interrupted, .progress-bar-interrupted::-webkit-progress-bar {\n",
       "        background: #F44336;\n",
       "    }\n",
       "</style>\n"
      ],
      "text/plain": [
       "<IPython.core.display.HTML object>"
      ]
     },
     "metadata": {},
     "output_type": "display_data"
    },
    {
     "data": {
      "text/html": [
       "\n",
       "    <div>\n",
       "      <progress value='84000' class='' max='84000' style='width:300px; height:20px; vertical-align: middle;'></progress>\n",
       "      100.00% [84000/84000 00:36&lt;00:00 Sampling 4 chains, 0 divergences]\n",
       "    </div>\n",
       "    "
      ],
      "text/plain": [
       "<IPython.core.display.HTML object>"
      ]
     },
     "metadata": {},
     "output_type": "display_data"
    },
    {
     "name": "stderr",
     "output_type": "stream",
     "text": [
      "Sampling 4 chains for 1_000 tune and 20_000 draw iterations (4_000 + 80_000 draws total) took 49 seconds.\n"
     ]
    }
   ],
   "source": [
    "model = pm.Model()\n",
    "\n",
    "with model:\n",
    "    urgent = pm.Bernoulli('U', 0.05)\n",
    "    reducere = pm.Bernoulli('R', 0.2)\n",
    "    cumpara_p = pm.Deterministic('C_p', pm.math.switch(reducere, pm.math.switch(urgent, 1, 0.5), pm.math.switch(urgent, 0.8, 0.2)))\n",
    "    cumpara = pm.Bernoulli('C', p=cumpara_p, observed=1)\n",
    "    trace = pm.sample(20000)"
   ]
  },
  {
   "cell_type": "code",
   "execution_count": 3,
   "metadata": {},
   "outputs": [],
   "source": [
    "dictionary = {\n",
    "              'urgent': trace['U'].tolist(),\n",
    "              'reducere': trace['R'].tolist()\n",
    "              }\n",
    "df = pd.DataFrame(dictionary)"
   ]
  },
  {
   "cell_type": "code",
   "execution_count": 4,
   "metadata": {},
   "outputs": [
    {
     "name": "stdout",
     "output_type": "stream",
     "text": [
      "0.1456625\n"
     ]
    }
   ],
   "source": [
    "p_urgent = df[(df['urgent'] == 1)].shape[0] / df.shape[0]\n",
    "print(p_urgent)"
   ]
  },
  {
   "cell_type": "code",
   "execution_count": 5,
   "metadata": {},
   "outputs": [],
   "source": [
    "# az.plot_posterior(trace)\n",
    "# plt.show()"
   ]
  }
 ],
 "metadata": {
  "kernelspec": {
   "display_name": "Python 3.9.7 64-bit",
   "language": "python",
   "name": "python3"
  },
  "language_info": {
   "codemirror_mode": {
    "name": "ipython",
    "version": 3
   },
   "file_extension": ".py",
   "mimetype": "text/x-python",
   "name": "python",
   "nbconvert_exporter": "python",
   "pygments_lexer": "ipython3",
   "version": "3.9.7"
  },
  "vscode": {
   "interpreter": {
    "hash": "11938c6bc6919ae2720b4d5011047913343b08a43b18698fd82dedb0d4417594"
   }
  }
 },
 "nbformat": 4,
 "nbformat_minor": 1
}
