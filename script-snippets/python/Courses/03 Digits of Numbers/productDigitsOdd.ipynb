{
 "cells": [
  {
   "attachments": {},
   "cell_type": "markdown",
   "metadata": {},
   "source": [
    "# 10"
   ]
  },
  {
   "cell_type": "markdown",
   "metadata": {},
   "source": [
    "## Problem:"
   ]
  },
  {
   "attachments": {},
   "cell_type": "markdown",
   "metadata": {},
   "source": [
    "***\n",
    "Să se scrie un program care să determine produsul cifrelor impare ale unui număr natural citit de la tastatură.\n",
    "***"
   ]
  },
  {
   "cell_type": "markdown",
   "metadata": {},
   "source": [
    "## Input:"
   ]
  },
  {
   "attachments": {},
   "cell_type": "markdown",
   "metadata": {},
   "source": [
    "Programul va citi de la tastatură un număr natural."
   ]
  },
  {
   "cell_type": "markdown",
   "metadata": {},
   "source": [
    "## Output:"
   ]
  },
  {
   "attachments": {},
   "cell_type": "markdown",
   "metadata": {},
   "source": [
    "Programul va afişa pe ecran produsul cifrelor impare ale numărului citit."
   ]
  },
  {
   "cell_type": "markdown",
   "metadata": {},
   "source": [
    "## Restrictions:"
   ]
  },
  {
   "attachments": {},
   "cell_type": "markdown",
   "metadata": {},
   "source": [
    "- numărul citit va fi mai mic decât 231\n",
    "- dacă numărul nu conţine cifre impare atunci se va afişa valoarea -1"
   ]
  },
  {
   "cell_type": "markdown",
   "metadata": {},
   "source": [
    "## Example:"
   ]
  },
  {
   "cell_type": "markdown",
   "metadata": {},
   "source": [
    "### Input:"
   ]
  },
  {
   "attachments": {},
   "cell_type": "markdown",
   "metadata": {},
   "source": [
    "2705"
   ]
  },
  {
   "cell_type": "markdown",
   "metadata": {},
   "source": [
    "### Output:"
   ]
  },
  {
   "attachments": {},
   "cell_type": "markdown",
   "metadata": {},
   "source": [
    "35"
   ]
  },
  {
   "cell_type": "markdown",
   "metadata": {},
   "source": [
    "## Solution:"
   ]
  },
  {
   "cell_type": "code",
   "execution_count": null,
   "metadata": {},
   "outputs": [],
   "source": [
    "nr = input()\n",
    "\n",
    "product = 1\n",
    "\n",
    "for digit in nr:\n",
    "    if int(digit) % 2 == 1:\n",
    "        product *= int(digit)   \n",
    "\n",
    "print(product)\n",
    "\n",
    "# 1 * 2 * 3 * 4 * 5 = 120\n",
    "# p = 1 * 2\n",
    "# p = p * 3\n",
    "# p = p * 4\n",
    "# p = p * 5\n",
    "# p = 120 = 1 * 2 * 3 * 4 * 5 \n",
    "\n",
    "# 127368\n",
    "# p = 1 * 2\n",
    "# p = p * 7\n",
    "# p = p * 3\n",
    "# p = p * 6\n",
    "# p = p * 8\n",
    "# p = 672 = 1 * 2 * 7 * 3 * 6 * 8\n",
    "\n",
    "# 127368\n",
    "# p = 1 * 7 * 3 = 21"
   ]
  }
 ],
 "metadata": {
  "kernelspec": {
   "display_name": "Python 3.9.13 64-bit (microsoft store)",
   "language": "python",
   "name": "python3"
  },
  "language_info": {
   "codemirror_mode": {
    "name": "ipython",
    "version": 3
   },
   "file_extension": ".py",
   "mimetype": "text/x-python",
   "name": "python",
   "nbconvert_exporter": "python",
   "pygments_lexer": "ipython3",
   "version": "3.9.13 (tags/v3.9.13:6de2ca5, May 17 2022, 16:36:42) [MSC v.1929 64 bit (AMD64)]"
  },
  "orig_nbformat": 4,
  "vscode": {
   "interpreter": {
    "hash": "bf75068fc0a92c8943419a81fa5d494501cbc9abc3d6baa21b77ee9da992efe7"
   }
  }
 },
 "nbformat": 4,
 "nbformat_minor": 2
}
