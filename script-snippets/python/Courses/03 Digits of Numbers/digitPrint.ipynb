{
 "cells": [
  {
   "cell_type": "markdown",
   "metadata": {},
   "source": [
    "# Exercise 1"
   ]
  },
  {
   "cell_type": "markdown",
   "metadata": {},
   "source": [
    "## Problem:"
   ]
  },
  {
   "attachments": {},
   "cell_type": "markdown",
   "metadata": {},
   "source": [
    "***\n",
    "Print each digit of a given number\n",
    "***"
   ]
  },
  {
   "cell_type": "markdown",
   "metadata": {},
   "source": [
    "## Input:"
   ]
  },
  {
   "cell_type": "markdown",
   "metadata": {},
   "source": []
  },
  {
   "cell_type": "markdown",
   "metadata": {},
   "source": [
    "## Output:"
   ]
  },
  {
   "cell_type": "markdown",
   "metadata": {},
   "source": []
  },
  {
   "cell_type": "markdown",
   "metadata": {},
   "source": [
    "## Restrictions:"
   ]
  },
  {
   "cell_type": "markdown",
   "metadata": {},
   "source": []
  },
  {
   "cell_type": "markdown",
   "metadata": {},
   "source": [
    "## Example:"
   ]
  },
  {
   "cell_type": "markdown",
   "metadata": {},
   "source": [
    "### Input:"
   ]
  },
  {
   "attachments": {},
   "cell_type": "markdown",
   "metadata": {},
   "source": [
    "978612"
   ]
  },
  {
   "cell_type": "markdown",
   "metadata": {},
   "source": [
    "### Output:"
   ]
  },
  {
   "attachments": {},
   "cell_type": "markdown",
   "metadata": {},
   "source": [
    "9\n",
    "\n",
    "7\n",
    "\n",
    "8\n",
    "\n",
    "6\n",
    "\n",
    "1\n",
    "\n",
    "2"
   ]
  },
  {
   "cell_type": "markdown",
   "metadata": {},
   "source": [
    "## Solution:"
   ]
  },
  {
   "cell_type": "code",
   "execution_count": 6,
   "metadata": {},
   "outputs": [
    {
     "name": "stdout",
     "output_type": "stream",
     "text": [
      "1\n",
      "7\n",
      "2\n",
      "6\n",
      "3\n",
      "9\n",
      "8\n",
      "1\n",
      "2\n"
     ]
    }
   ],
   "source": [
    "n = int(input())\n",
    "\n",
    "for digit in str(n):\n",
    "    print(digit)\n",
    "\n",
    "\n",
    "# n % 10 gives the last digit\n",
    "\n",
    "# n / 10 removes the last digit\n",
    "\n",
    "\n",
    "# n = 1234\n",
    "# digit = n % 10 = 4\n",
    "# print 4\n",
    "# n = n // 10 = 123\n",
    "\n",
    "# digit = 3\n",
    "# print 3\n",
    "# n = 12\n",
    "\n",
    "# digit = 2\n",
    "# print 2\n",
    "# n = 1\n",
    "\n",
    "# digit = 1\n",
    "# print 1\n",
    "# n = n // 10 = 0\n",
    "\n",
    "while n > 0:\n",
    "    digit = n % 10\n",
    "    print(digit)\n",
    "    n = n // 10\n",
    "\n",
    "print(\"Done\")\n",
    "\n",
    "# n = 2\n",
    "# 2 > 0 A\n",
    "# digit = 2 % 10 = 2\n",
    "# print 2\n",
    "# 2 // 10 = 0\n",
    "\n",
    "# 0 > 0 F\n",
    "\n",
    "# n = 22\n",
    "# 22 > 0 A\n",
    "# digit = 2\n",
    "# print(2)\n",
    "# n = 2\n",
    "\n",
    "# n = 2\n",
    "# 2 > 0 A\n",
    "# digit = 2\n",
    "# print(2)\n",
    "# n = 0\n",
    "\n",
    "# n = 0\n",
    "# 0 > 0 F\n",
    "\n",
    "\n",
    "# Print(Done)\n",
    "\n",
    "\n",
    "# n = 4\n",
    "# 4 > 0 A\n",
    "# digit = 4\n",
    "# print(4)\n",
    "# n = 0\n",
    "\n",
    "# 0 > 0 F\n",
    "\n",
    "\n",
    "# n = 37\n",
    "# 37 > 0 A\n",
    "# digit = 7\n",
    "# print(7)\n",
    "# n = 3\n",
    "\n",
    "# 3 > 0 A\n",
    "# digit = 3\n",
    "# print(3)\n",
    "# n = 0\n",
    "\n",
    "# 0 > 0 F\n",
    "\n",
    "\n",
    "\n",
    "\n",
    "# input: n = 123\n",
    "# output: \n",
    "# 3\n",
    "# 2\n",
    "# 1\n",
    "\n",
    "# n = 123\n",
    "# 123 > 0 A\n",
    "# digit = 3\n",
    "# print(3)\n",
    "# n = 12\n",
    "\n",
    "# n = 12\n",
    "# 12 > 0 A\n",
    "# digit = 2\n",
    "# print(2)\n",
    "# n = 1\n",
    "\n",
    "# n = 1\n",
    "# 1 > 0 A\n",
    "# digit = 1\n",
    "# print(1)\n",
    "# n = 0\n",
    "\n",
    "# 0 > 0 F"
   ]
  }
 ],
 "metadata": {
  "kernelspec": {
   "display_name": "Python 3",
   "language": "python",
   "name": "python3"
  },
  "language_info": {
   "codemirror_mode": {
    "name": "ipython",
    "version": 3
   },
   "file_extension": ".py",
   "mimetype": "text/x-python",
   "name": "python",
   "nbconvert_exporter": "python",
   "pygments_lexer": "ipython3",
   "version": "3.9.13 (tags/v3.9.13:6de2ca5, May 17 2022, 16:36:42) [MSC v.1929 64 bit (AMD64)]"
  },
  "orig_nbformat": 4,
  "vscode": {
   "interpreter": {
    "hash": "bf75068fc0a92c8943419a81fa5d494501cbc9abc3d6baa21b77ee9da992efe7"
   }
  }
 },
 "nbformat": 4,
 "nbformat_minor": 2
}
