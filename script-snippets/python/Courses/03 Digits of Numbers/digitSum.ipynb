{
 "cells": [
  {
   "attachments": {},
   "cell_type": "markdown",
   "metadata": {},
   "source": [
    "# 10"
   ]
  },
  {
   "cell_type": "markdown",
   "metadata": {},
   "source": [
    "## Problem:"
   ]
  },
  {
   "attachments": {},
   "cell_type": "markdown",
   "metadata": {},
   "source": [
    "***\n",
    "Se da un numar natural. Calculaţi suma cifrelor numărului dat.\n",
    "***"
   ]
  },
  {
   "cell_type": "markdown",
   "metadata": {},
   "source": [
    "## Input:"
   ]
  },
  {
   "attachments": {},
   "cell_type": "markdown",
   "metadata": {},
   "source": [
    "Programul va citi de la tastatură un număr natural."
   ]
  },
  {
   "cell_type": "markdown",
   "metadata": {},
   "source": [
    "## Output:"
   ]
  },
  {
   "attachments": {},
   "cell_type": "markdown",
   "metadata": {},
   "source": [
    "Programul va afişa pe ecran suma cifrelor numărului citit."
   ]
  },
  {
   "cell_type": "markdown",
   "metadata": {},
   "source": [
    "## Restrictions:"
   ]
  },
  {
   "attachments": {},
   "cell_type": "markdown",
   "metadata": {},
   "source": [
    "- numărul citit va fi mai mic decât 2.000.000.000"
   ]
  },
  {
   "cell_type": "markdown",
   "metadata": {},
   "source": [
    "## Example:"
   ]
  },
  {
   "cell_type": "markdown",
   "metadata": {},
   "source": [
    "### Input:"
   ]
  },
  {
   "attachments": {},
   "cell_type": "markdown",
   "metadata": {},
   "source": [
    "2705"
   ]
  },
  {
   "cell_type": "markdown",
   "metadata": {},
   "source": [
    "### Output:"
   ]
  },
  {
   "attachments": {},
   "cell_type": "markdown",
   "metadata": {},
   "source": [
    "14"
   ]
  },
  {
   "cell_type": "markdown",
   "metadata": {},
   "source": [
    "## Solution:"
   ]
  },
  {
   "cell_type": "code",
   "execution_count": null,
   "metadata": {},
   "outputs": [],
   "source": [
    "# 6785\n",
    "\n",
    "n = int(input())\n",
    "suma = 0\n",
    "\n",
    "for digit in str(n):\n",
    "    suma = suma + int(digit)\n",
    "\n",
    "print(suma)"
   ]
  },
  {
   "cell_type": "code",
   "execution_count": 1,
   "metadata": {},
   "outputs": [
    {
     "name": "stdout",
     "output_type": "stream",
     "text": [
      "6\n",
      "5\n",
      "7\n",
      "8\n",
      "6\n"
     ]
    }
   ],
   "source": [
    "# input() - returns a string.\n",
    "# int(input()) - returns an integer.\n",
    "\n",
    "n = int(input())\n",
    "\n",
    "suma = 0\n",
    "\n",
    "# Digit = Cifra\n",
    "for digit in str(n):\n",
    "    suma = suma + int(digit)\n",
    "    # print(digit)\n",
    "\n",
    "print(suma)\n",
    "\n",
    "#  128976\n",
    "#  1, 2, 8, 9, 7, 6 - sunt cifrele numarului 128976\n",
    "\n",
    "\n",
    "\n",
    "\n",
    "#  suma = 0\n",
    "#  suma  = suma + 1\n",
    "#  suma  = suma + 2\n",
    "#  suma  = suma + 8\n",
    "#  suma  = suma + 9\n",
    "#  suma  = suma + 7\n",
    "#  suma  = suma + 6\n",
    "#  suma  = 0 + 1 + 2 + 8 + 9 + 7 + 6"
   ]
  }
 ],
 "metadata": {
  "kernelspec": {
   "display_name": "Python 3.9.13 64-bit (microsoft store)",
   "language": "python",
   "name": "python3"
  },
  "language_info": {
   "codemirror_mode": {
    "name": "ipython",
    "version": 3
   },
   "file_extension": ".py",
   "mimetype": "text/x-python",
   "name": "python",
   "nbconvert_exporter": "python",
   "pygments_lexer": "ipython3",
   "version": "3.9.13 (tags/v3.9.13:6de2ca5, May 17 2022, 16:36:42) [MSC v.1929 64 bit (AMD64)]"
  },
  "orig_nbformat": 4,
  "vscode": {
   "interpreter": {
    "hash": "bf75068fc0a92c8943419a81fa5d494501cbc9abc3d6baa21b77ee9da992efe7"
   }
  }
 },
 "nbformat": 4,
 "nbformat_minor": 2
}
