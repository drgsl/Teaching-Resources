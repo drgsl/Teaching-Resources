{
 "cells": [
  {
   "cell_type": "markdown",
   "metadata": {},
   "source": [
    "# 109 Paritate"
   ]
  },
  {
   "cell_type": "markdown",
   "metadata": {},
   "source": [
    "https://www.pbinfo.ro/probleme/109/paritate"
   ]
  },
  {
   "cell_type": "markdown",
   "metadata": {},
   "source": [
    "### Problem:"
   ]
  },
  {
   "cell_type": "markdown",
   "metadata": {},
   "source": [
    "***\n",
    "Să se scrie un program care citeşte de la tastatură un număr natural şi verifică dacă numărul este par sau impar.\n",
    "***"
   ]
  },
  {
   "cell_type": "markdown",
   "metadata": {},
   "source": [
    "### Input:"
   ]
  },
  {
   "cell_type": "markdown",
   "metadata": {},
   "source": [
    "Programul va citi de la tastatură un număr natural n."
   ]
  },
  {
   "cell_type": "markdown",
   "metadata": {},
   "source": [
    "### Output:"
   ]
  },
  {
   "cell_type": "markdown",
   "metadata": {},
   "source": [
    "Programul va afişa pe ecran mesajul n este par, dacă numărul citit n este par, respectiv mesajul n este impar în caz contrar."
   ]
  },
  {
   "cell_type": "markdown",
   "metadata": {},
   "source": [
    "### Restrictions:"
   ]
  },
  {
   "cell_type": "markdown",
   "metadata": {},
   "source": [
    "0 < n < 1.000.000.000"
   ]
  },
  {
   "cell_type": "markdown",
   "metadata": {},
   "source": [
    "### Example:"
   ]
  },
  {
   "cell_type": "markdown",
   "metadata": {},
   "source": [
    "Input:\n",
    "2012\n",
    "\n",
    "Output:\n",
    "2012 este par\n"
   ]
  },
  {
   "cell_type": "markdown",
   "metadata": {},
   "source": [
    "### Solution:"
   ]
  },
  {
   "cell_type": "code",
   "execution_count": 2,
   "metadata": {},
   "outputs": [
    {
     "name": "stdout",
     "output_type": "stream",
     "text": [
      "Numarul 15 este impar\n"
     ]
    }
   ],
   "source": [
    "nr = int(input())\n",
    "\n",
    "# if nr % 10 == 2 or nr % 10 == 4 or nr % 10 == 6 or nr % 10 == 8 or nr % 10 == 0:\n",
    "#     print(\"Numarul\", nr, \"este par\")\n",
    "\n",
    "# if nr % 10 == 1 or nr % 10 == 3 or nr % 10 == 5 or nr % 10 == 7 or nr % 10 == 9:\n",
    "#     print(\"Numarul\", nr, \"este impar\")\n",
    "\n",
    "if nr % 2 == 0:\n",
    "    print(\"Numarul\", nr, \"este par\")\n",
    "\n",
    "if nr % 2 == 1:\n",
    "    print(f\"Numarul {nr} este impar\")\n"
   ]
  }
 ],
 "metadata": {
  "kernelspec": {
   "display_name": "Python 3.9.13 64-bit (microsoft store)",
   "language": "python",
   "name": "python3"
  },
  "language_info": {
   "codemirror_mode": {
    "name": "ipython",
    "version": 3
   },
   "file_extension": ".py",
   "mimetype": "text/x-python",
   "name": "python",
   "nbconvert_exporter": "python",
   "pygments_lexer": "ipython3",
   "version": "3.9.13"
  },
  "orig_nbformat": 4,
  "vscode": {
   "interpreter": {
    "hash": "bf75068fc0a92c8943419a81fa5d494501cbc9abc3d6baa21b77ee9da992efe7"
   }
  }
 },
 "nbformat": 4,
 "nbformat_minor": 2
}
