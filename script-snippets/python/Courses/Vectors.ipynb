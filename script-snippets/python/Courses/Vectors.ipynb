{
 "cells": [
  {
   "attachments": {},
   "cell_type": "markdown",
   "metadata": {},
   "source": [
    "# Vectors"
   ]
  },
  {
   "attachments": {},
   "cell_type": "markdown",
   "metadata": {},
   "source": [
    "## Theory"
   ]
  },
  {
   "attachments": {},
   "cell_type": "markdown",
   "metadata": {},
   "source": [
    "{1, 2, 3} -> Multimea formata din elementele 1, 2, 3"
   ]
  },
  {
   "attachments": {},
   "cell_type": "markdown",
   "metadata": {},
   "source": [
    "a -> o variabila"
   ]
  },
  {
   "attachments": {},
   "cell_type": "markdown",
   "metadata": {},
   "source": [
    "[a, b, c] -> Vectorul format din elementele a, b, c"
   ]
  },
  {
   "attachments": {},
   "cell_type": "markdown",
   "metadata": {},
   "source": [
    "[\n",
    "\n",
    "    [a, b, c]\n",
    "    \n",
    "    [d, e, f]\n",
    "    \n",
    "    [g, h, i]\n",
    "\n",
    "] -> Matricea formata din elementele a, b, c, d, e, f, g, h, i"
   ]
  },
  {
   "cell_type": "code",
   "execution_count": 17,
   "metadata": {},
   "outputs": [
    {
     "name": "stdout",
     "output_type": "stream",
     "text": [
      "[] [1, 2, 3] [1, 2.0, 'three']\n"
     ]
    }
   ],
   "source": [
    "v1 = [] # empty list\n",
    "\n",
    "v2 = [1, 2, 3] # list of integers\n",
    "\n",
    "v3 = [1, 2.0, 'three'] # list of mixed types\n",
    "\n",
    "print(v1, v2, v3)"
   ]
  },
  {
   "cell_type": "code",
   "execution_count": 4,
   "metadata": {},
   "outputs": [
    {
     "name": "stdout",
     "output_type": "stream",
     "text": [
      "1\n",
      "2.0\n"
     ]
    }
   ],
   "source": [
    "v2[0] # first element\n",
    "\n",
    "print(v2[0])\n",
    "\n",
    "print(v3[1])"
   ]
  },
  {
   "cell_type": "code",
   "execution_count": 3,
   "metadata": {},
   "outputs": [
    {
     "name": "stdout",
     "output_type": "stream",
     "text": [
      "1\n",
      "2\n",
      "3\n"
     ]
    }
   ],
   "source": [
    "# Varianta Python\n",
    "for number in v2:\n",
    "    print(number)\n",
    "\n",
    "# Varianta C++\n",
    "# for i = 0; i < v2.size(); i++:\n",
    "#     print(v2[i])"
   ]
  },
  {
   "cell_type": "code",
   "execution_count": 18,
   "metadata": {},
   "outputs": [
    {
     "name": "stdout",
     "output_type": "stream",
     "text": [
      "[1, 2, 3]\n",
      "[1, 2, 3, 4]\n",
      "[1, 2, 3]\n"
     ]
    }
   ],
   "source": [
    "# Python gimmicks\n",
    "print(v2)\n",
    "\n",
    "v2.append(4)\n",
    "\n",
    "print(v2)\n",
    "\n",
    "v2.pop()\n",
    "print(v2)"
   ]
  },
  {
   "attachments": {},
   "cell_type": "markdown",
   "metadata": {},
   "source": [
    "## Exercises"
   ]
  },
  {
   "attachments": {},
   "cell_type": "markdown",
   "metadata": {},
   "source": [
    "https://www.pbinfo.ro/probleme/490/afisareminmax\n",
    "https://www.pbinfo.ro/probleme/491/suma2\n",
    "\n",
    "\n",
    "https://www.pbinfo.ro/probleme/288/verifpare\n",
    "https://www.pbinfo.ro/probleme/488/afisare\n",
    "https://www.pbinfo.ro/probleme/158/inserare\n",
    "https://www.pbinfo.ro/probleme/502/verifdiferite\n",
    "\n",
    "https://www.pbinfo.ro/probleme/519/secventa1\n",
    "https://www.pbinfo.ro/probleme/500/verificareordonat\n",
    "\n",
    "\n",
    "https://www.pbinfo.ro/probleme/289/existaimpare\n",
    "https://www.pbinfo.ro/probleme/509/ordonare\n",
    "https://www.pbinfo.ro/probleme/516/sumsec1\n",
    "https://www.pbinfo.ro/probleme/1452/stergere-element\n",
    "\n",
    "\n",
    "https://www.pbinfo.ro/probleme/4248/game-player\n",
    "https://www.pbinfo.ro/probleme/546/afisare0\n"
   ]
  },
  {
   "attachments": {},
   "cell_type": "markdown",
   "metadata": {},
   "source": [
    "### 486 MinMax0"
   ]
  },
  {
   "attachments": {},
   "cell_type": "markdown",
   "metadata": {},
   "source": [
    "https://www.pbinfo.ro/probleme/486/minmax0"
   ]
  },
  {
   "attachments": {},
   "cell_type": "markdown",
   "metadata": {},
   "source": [
    "Se citește n, apoi încă n numere naturale, reprezentând elementele unui vector.\n",
    "\n",
    "#### Cerinţa\n",
    "Calculaţi valoarea minimă minim și valoarea maximă maxim a valorilor elementelor vectorului.\n",
    "\n",
    "#### Date de intrare\n",
    "Programul citește de la tastatură de numărul n, apoi încă n numere naturale, reprezentând elementele vectorului.\n",
    "\n",
    "#### Date de ieşire\n",
    "Programul va afișa pe ecran cele două numere minim şi maxim, separate printr-un singur spaţiu.\n",
    "\n",
    "#### Restricţii şi precizări\n",
    "0 < n < 1000\n",
    "elementele vectorului vor fi mai mici decât 1.000.000"
   ]
  },
  {
   "cell_type": "code",
   "execution_count": 22,
   "metadata": {},
   "outputs": [
    {
     "name": "stdout",
     "output_type": "stream",
     "text": [
      "[1, 2, 3, 4, 5]\n",
      "1 5\n"
     ]
    }
   ],
   "source": [
    "n = input(\"How many elements do you want to add?\")\n",
    "n = int(n)\n",
    "\n",
    "v = []\n",
    "\n",
    "for i in range(n):\n",
    "    newNum = input(\"Enter a number: \")\n",
    "    newNum = int(newNum)\n",
    "\n",
    "    v.append(newNum)\n",
    "\n",
    "print(v)\n",
    "\n",
    "### Varianta Python\n",
    "print( min(v), max(v) )\n",
    "\n",
    "### Varianta C++\n",
    "mini = 10000\n",
    "\n",
    "# Parcurgi vectorul\n",
    "for i in range(len(v)):\n",
    "# Compari fiecare element cu minimul curent\n",
    "    if v[i] < mini:\n",
    "# Daca gasesti un element mai mic, il pui ca minim\n",
    "        mini = v[i]\n",
    "# Print Minimum\n",
    "print(mini)\n",
    "\n",
    "maxi = -10000\n",
    "\n",
    "# Parcurgi vectorul\n",
    "for i in range(len(v)):\n",
    "# Compari fiecare element cu maximul curent\n",
    "    if v[i] > maxi:\n",
    "# Daca gasesti un element mai mare, il pui ca maxim\n",
    "        maxi = v[i]\n",
    "# Print Minimum\n",
    "print(mini)"
   ]
  },
  {
   "attachments": {},
   "cell_type": "markdown",
   "metadata": {},
   "source": [
    "### 553 PozMinMax "
   ]
  },
  {
   "attachments": {},
   "cell_type": "markdown",
   "metadata": {},
   "source": [
    "Se citește n, apoi n numere naturale distincte, reprezentând elementele unui vector.\n",
    "\n",
    "#### Cerinţa\n",
    "Calculaţi indicele imin și indicele imax ai elementului cu valoarea minimă, respectiv cu valoarea maximă, din vectorul dat.\n",
    "\n",
    "#### Date de intrare\n",
    "Programul citește de numărul n, apoi încă n numere naturale, reprezentând elementele vectorului.\n",
    "\n",
    "#### Date de ieşire\n",
    "Programul va afișa pe ecran cele două numere imin şi imax, separate printr-un singur spaţiu.\n",
    "\n",
    "#### Restricţii şi precizări\n",
    "1 ≤ n ≤ 1000\n",
    "elementele vectorului vor fi mai mici decât 1.000.000 și vor fi indexate de la 1 la n"
   ]
  },
  {
   "cell_type": "code",
   "execution_count": 24,
   "metadata": {},
   "outputs": [
    {
     "name": "stdout",
     "output_type": "stream",
     "text": [
      "[1, 2, 3, 65, 3]\n",
      "0\n",
      "3\n"
     ]
    }
   ],
   "source": [
    "n = input(\"How many elements do you want to add?\")\n",
    "n = int(n)\n",
    "\n",
    "v = []\n",
    "\n",
    "for i in range(n):\n",
    "    newNum = input(\"Enter a number: \")\n",
    "    newNum = int(newNum)\n",
    "\n",
    "    v.append(newNum)\n",
    "\n",
    "print(v)\n",
    "\n",
    "print( v.index( min(v) ) )\n",
    "print( v.index( max(v) ) )"
   ]
  },
  {
   "attachments": {},
   "cell_type": "markdown",
   "metadata": {},
   "source": [
    "### 1452 Stergere_Element "
   ]
  },
  {
   "attachments": {},
   "cell_type": "markdown",
   "metadata": {},
   "source": [
    "Se dă un șir cu n elemente întregi și un număr p.\n",
    "\n",
    "Cerinţa\n",
    "\n",
    "Să se șteargă din șirul X elementul aflat pe poziția p."
   ]
  },
  {
   "cell_type": "code",
   "execution_count": 26,
   "metadata": {},
   "outputs": [
    {
     "name": "stdout",
     "output_type": "stream",
     "text": [
      "[1, 5, 6, 7, 2, 7, 1, 9, 123, 151, 1642]\n",
      "[1, 5, 6, 7, 2, 7, 1, 9, 151, 1642]\n"
     ]
    }
   ],
   "source": [
    "v = [1, 5, 6, 7, 2, 7, 1, 9, 151123, , 1642]\n",
    "\n",
    "p = input (\"Enter a position: \")\n",
    "p = int(p)\n",
    "\n",
    "print(v)\n",
    "v.pop(p)\n",
    "print(v)"
   ]
  },
  {
   "attachments": {},
   "cell_type": "markdown",
   "metadata": {},
   "source": [
    "#### Citim vector de la tastatura"
   ]
  },
  {
   "attachments": {},
   "cell_type": "markdown",
   "metadata": {},
   "source": [
    "1. Citim n (numarul de elemente din vector)\n",
    "2. Citim elementele vectorului\n",
    "3. Afisam vectorul"
   ]
  },
  {
   "cell_type": "code",
   "execution_count": 4,
   "metadata": {},
   "outputs": [
    {
     "name": "stdout",
     "output_type": "stream",
     "text": [
      "[1, 7, 4, 9]\n"
     ]
    }
   ],
   "source": [
    "n = int(input(\"How many elements do you want to add?\"))\n",
    "\n",
    "v = []\n",
    "\n",
    "for i in range(n):\n",
    "    num = int(input(\"What elem do u want to add?\"))\n",
    "    v.append(num)\n",
    "\n",
    "print(v)"
   ]
  },
  {
   "attachments": {},
   "cell_type": "markdown",
   "metadata": {},
   "source": [
    "### Vector cu toate nr consecutive"
   ]
  },
  {
   "cell_type": "code",
   "execution_count": 10,
   "metadata": {},
   "outputs": [
    {
     "name": "stdout",
     "output_type": "stream",
     "text": [
      "[5, 4, 3, 2, 1]\n",
      "[5, 4, 3, 2, 1, -1, 0, 2, 4]\n"
     ]
    }
   ],
   "source": [
    "n = int(input(\"How many elements do you want to add?\"))\n",
    "\n",
    "v = []\n",
    "\n",
    "for i in range(n, 0, -1):\n",
    "    num = i\n",
    "    v.append(num)\n",
    "    # la fel cu: v.append(i)e \n",
    "print(v)\n",
    "\n",
    "v.append(-1)\n",
    "\n",
    "for i in range(n):\n",
    "    if(i % 2 == 0):\n",
    "        v.append(i)\n",
    "        # la fel cu: num = i; v.append(num)\n",
    "print(v)"
   ]
  },
  {
   "attachments": {},
   "cell_type": "markdown",
   "metadata": {},
   "source": [
    "### Operations on vectors"
   ]
  },
  {
   "cell_type": "code",
   "execution_count": 60,
   "metadata": {},
   "outputs": [
    {
     "name": "stdout",
     "output_type": "stream",
     "text": [
      "[4, 5, 7, 21, 2, 5, 6, 1, 2, 45, 191230, 12361726]\n",
      "[4, 5, 7, 21, 5, 6, 1, 2, 45, 191230, 12361726]\n",
      "[4, 5, 7, 21, 5, 6, 1, 2, 45, 191230, 12361726, 2, 2]\n",
      "[1, 2, 2, 2, 4, 5, 5, 6, 7, 21, 45, 191230, 12361726]\n"
     ]
    }
   ],
   "source": [
    "v = [4, 5, 7, 21,2 , 5 ,6, 1, 2, 45, 191230, 12361726]\n",
    "\n",
    "import random\n",
    "randomIndex = random.choice(v)\n",
    "\n",
    "randomElement = v[randomIndex] \n",
    "\n",
    "print(v)\n",
    "v.pop(randomIndex)\n",
    "print(v)\n",
    "\n",
    "v.append (randomElement)\n",
    "v.append (randomElement)\n",
    "print(v)\n",
    "\n",
    "\n",
    "v.sort()\n",
    "print(v)\n"
   ]
  },
  {
   "attachments": {},
   "cell_type": "markdown",
   "metadata": {},
   "source": [
    "### Exercise Template"
   ]
  }
 ],
 "metadata": {
  "kernelspec": {
   "display_name": "Python 3",
   "language": "python",
   "name": "python3"
  },
  "language_info": {
   "codemirror_mode": {
    "name": "ipython",
    "version": 3
   },
   "file_extension": ".py",
   "mimetype": "text/x-python",
   "name": "python",
   "nbconvert_exporter": "python",
   "pygments_lexer": "ipython3",
   "version": "3.9.13"
  },
  "orig_nbformat": 4,
  "vscode": {
   "interpreter": {
    "hash": "bf75068fc0a92c8943419a81fa5d494501cbc9abc3d6baa21b77ee9da992efe7"
   }
  }
 },
 "nbformat": 4,
 "nbformat_minor": 2
}
