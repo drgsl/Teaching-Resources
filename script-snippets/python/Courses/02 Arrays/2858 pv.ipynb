{
 "cells": [
  {
   "cell_type": "markdown",
   "metadata": {},
   "source": [
    "# Exercise 1"
   ]
  },
  {
   "cell_type": "markdown",
   "metadata": {},
   "source": [
    "## Problem:"
   ]
  },
  {
   "attachments": {},
   "cell_type": "markdown",
   "metadata": {},
   "source": [
    "***\n",
    "Se consideră un șir a1, a2, …, an de numere naturale.\n",
    "\n",
    "- Să se afișeze elementele șirului de la dreapta la stânga.\n",
    "- Să se calculeze suma valorilor pare din șir.\n",
    "- Să se determine suma valorilor aflate pe poziții pare în șir.\n",
    "- Să se determine numărul numerelor din șir care sunt divizibile cu 10.\n",
    "- Să se determine suma numerelor divizibile cu 3 și aflate pe poziții impare.\n",
    "***"
   ]
  },
  {
   "cell_type": "markdown",
   "metadata": {},
   "source": [
    "## Input:"
   ]
  },
  {
   "attachments": {},
   "cell_type": "markdown",
   "metadata": {},
   "source": [
    "Programul citește de la tastatură numărul n, iar apoi șirul de n numere naturale, separate prin spații."
   ]
  },
  {
   "cell_type": "markdown",
   "metadata": {},
   "source": [
    "## Output:"
   ]
  },
  {
   "attachments": {},
   "cell_type": "markdown",
   "metadata": {},
   "source": [
    "- Programul va afișa pe ecran pe prima linie elementele șirului de la dreapta la stânga. \n",
    "- Pe linia a doua se va afișa un singur număr reprezentând suma valorilor pare. \n",
    "- Pe linia a treia se va afișa un singur număr reprezentând suma valorilor aflate pe poziții pare în șir. \n",
    "- Pe linia a patra se va afișa un singur număr reprezentând numărul numerelor din șir care sunt divizibile cu 10. \n",
    "- Pe linia a cincea se va afișa un singur număr reprezentând suma numerelor divizibile cu 3 și aflate pe poziții impare."
   ]
  },
  {
   "cell_type": "markdown",
   "metadata": {},
   "source": [
    "## Restrictions:"
   ]
  },
  {
   "attachments": {},
   "cell_type": "markdown",
   "metadata": {},
   "source": [
    "1 ≤ n ≤ 100\n",
    "\n",
    "0 ≤ ai ≤ 100, pentru orice i=1..n."
   ]
  },
  {
   "cell_type": "markdown",
   "metadata": {},
   "source": [
    "## Example:"
   ]
  },
  {
   "cell_type": "markdown",
   "metadata": {},
   "source": [
    "### Input:"
   ]
  },
  {
   "attachments": {},
   "cell_type": "markdown",
   "metadata": {},
   "source": [
    "10\n",
    "1 2 3 4 5 6 7 8 9 10"
   ]
  },
  {
   "cell_type": "markdown",
   "metadata": {},
   "source": [
    "### Output:"
   ]
  },
  {
   "attachments": {},
   "cell_type": "markdown",
   "metadata": {},
   "source": [
    "10 9 8 7 6 5 4 3 2 1 \n",
    "30\n",
    "30\n",
    "1\n",
    "12"
   ]
  },
  {
   "cell_type": "markdown",
   "metadata": {},
   "source": [
    "## Solution:"
   ]
  },
  {
   "cell_type": "code",
   "execution_count": 9,
   "metadata": {},
   "outputs": [
    {
     "name": "stdout",
     "output_type": "stream",
     "text": [
      "[]\n",
      "[2, 4, 6, 1, 2, 7, 9, 10]\n",
      "8\n",
      "2\n",
      "4\n"
     ]
    }
   ],
   "source": [
    "a = []\n",
    "print(a)\n",
    "# int a[] = {1, 2, 3};\n",
    "\n",
    "a = [2, 4, 6, 1, 2, 7, 9, 10]\n",
    "print(a)\n",
    "print(len(a))\n",
    "print(a[0])\n",
    "print(a[1])"
   ]
  },
  {
   "attachments": {},
   "cell_type": "markdown",
   "metadata": {},
   "source": [
    "- Să se afișeze elementele șirului de la dreapta la stanga."
   ]
  },
  {
   "cell_type": "code",
   "execution_count": 11,
   "metadata": {},
   "outputs": [
    {
     "name": "stdout",
     "output_type": "stream",
     "text": [
      "51\n",
      "50\n",
      "3\n",
      "10\n",
      "20\n",
      "9\n",
      "4\n",
      "2\n",
      "6\n",
      "1\n"
     ]
    }
   ],
   "source": [
    "arr = [1, 6, 2, 4, 9, 20, 10, 3, 50, 51]\n",
    "\n",
    "# Parcurgem vectorul\n",
    "for i in range(len(arr)-1, -1, -1):\n",
    "    # afisam fiecare element\n",
    "    print(arr[i])"
   ]
  },
  {
   "attachments": {},
   "cell_type": "markdown",
   "metadata": {},
   "source": [
    "- Să se calculeze suma valorilor din șir."
   ]
  },
  {
   "cell_type": "code",
   "execution_count": null,
   "metadata": {},
   "outputs": [],
   "source": [
    "arr = [1, 6, 2, 4, 9, 20, 10, 3, 50, 51]\n",
    "\n",
    "s = 0\n",
    "\n",
    "# Parcurgem vectorul\n",
    "for i in range(len(arr)):\n",
    "    # Calculam suma elementelor\n",
    "    s = s + arr[i]\n",
    "print(s)\n"
   ]
  }
 ],
 "metadata": {
  "kernelspec": {
   "display_name": "Python 3.9.13 64-bit (microsoft store)",
   "language": "python",
   "name": "python3"
  },
  "language_info": {
   "codemirror_mode": {
    "name": "ipython",
    "version": 3
   },
   "file_extension": ".py",
   "mimetype": "text/x-python",
   "name": "python",
   "nbconvert_exporter": "python",
   "pygments_lexer": "ipython3",
   "version": "3.9.13"
  },
  "orig_nbformat": 4,
  "vscode": {
   "interpreter": {
    "hash": "bf75068fc0a92c8943419a81fa5d494501cbc9abc3d6baa21b77ee9da992efe7"
   }
  }
 },
 "nbformat": 4,
 "nbformat_minor": 2
}
