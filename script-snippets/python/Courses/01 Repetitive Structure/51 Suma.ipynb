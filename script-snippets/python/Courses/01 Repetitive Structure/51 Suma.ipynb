{
 "cells": [
  {
   "cell_type": "markdown",
   "metadata": {},
   "source": [
    "# Exercise 1"
   ]
  },
  {
   "cell_type": "markdown",
   "metadata": {},
   "source": [
    "## Problem:"
   ]
  },
  {
   "attachments": {},
   "cell_type": "markdown",
   "metadata": {},
   "source": [
    "***\n",
    "Se citesc numere de la tastatură până la apariția lui zero. Să se determine suma lor.\n",
    "***"
   ]
  },
  {
   "cell_type": "markdown",
   "metadata": {},
   "source": [
    "## Input:"
   ]
  },
  {
   "attachments": {},
   "cell_type": "markdown",
   "metadata": {},
   "source": [
    "Programul citește de la tastatură numere întregi. Citirea se încheie la introducerea valorii 0."
   ]
  },
  {
   "cell_type": "markdown",
   "metadata": {},
   "source": [
    "## Output:"
   ]
  },
  {
   "attachments": {},
   "cell_type": "markdown",
   "metadata": {},
   "source": [
    "Programul afișează pe prima linie a ecranului numărul S, reprezentând suma numerelor citite."
   ]
  },
  {
   "cell_type": "markdown",
   "metadata": {},
   "source": [
    "## Restrictions:"
   ]
  },
  {
   "attachments": {},
   "cell_type": "markdown",
   "metadata": {},
   "source": [
    "numerele citite aparțin intervalului (-1.000.000 , 1.000.000)\n",
    "\n",
    "valoarea absolută a sumei nu va depăși 1.000.000.000"
   ]
  },
  {
   "cell_type": "markdown",
   "metadata": {},
   "source": [
    "## Example:"
   ]
  },
  {
   "cell_type": "markdown",
   "metadata": {},
   "source": [
    "### Input:"
   ]
  },
  {
   "attachments": {},
   "cell_type": "markdown",
   "metadata": {},
   "source": [
    "5 6 2 1 0"
   ]
  },
  {
   "cell_type": "markdown",
   "metadata": {},
   "source": [
    "### Output:"
   ]
  },
  {
   "attachments": {},
   "cell_type": "markdown",
   "metadata": {},
   "source": [
    "14"
   ]
  },
  {
   "cell_type": "markdown",
   "metadata": {},
   "source": [
    "## Solution:"
   ]
  },
  {
   "cell_type": "code",
   "execution_count": 1,
   "metadata": {},
   "outputs": [
    {
     "name": "stdout",
     "output_type": "stream",
     "text": [
      "Suma este:  15\n"
     ]
    }
   ],
   "source": [
    "# Initializam x\n",
    "x = -1\n",
    "# Initializam suma\n",
    "S = 0\n",
    "# Cat timp x este diferit de 0\n",
    "while(x != 0):\n",
    "    # Citim x\n",
    "    x = int(input(\"Un numar: \"))\n",
    "    # Crestem suma cu x\n",
    "    S = S + x\n",
    "\n",
    "# Afisam suma cand x = 0\n",
    "print(\"Suma este: \", S)"
   ]
  },
  {
   "cell_type": "code",
   "execution_count": null,
   "metadata": {},
   "outputs": [],
   "source": [
    "# Initializam x\n",
    "x = -1\n",
    "# Initializam suma\n",
    "S = 0\n",
    "# La infinit\n",
    "while(True):\n",
    "    # Citim x\n",
    "    x = int(input(\"Un numar: \"))\n",
    "    # Daca x este 0\n",
    "    if(x == 0):\n",
    "        # Iesim din bucla\n",
    "        break\n",
    "    # Crestem suma cu x\n",
    "    S = S + x\n",
    "    \n",
    "# Afisam suma\n",
    "print(\"Suma este: \", S)"
   ]
  }
 ],
 "metadata": {
  "kernelspec": {
   "display_name": "Python 3.9.13 64-bit (microsoft store)",
   "language": "python",
   "name": "python3"
  },
  "language_info": {
   "codemirror_mode": {
    "name": "ipython",
    "version": 3
   },
   "file_extension": ".py",
   "mimetype": "text/x-python",
   "name": "python",
   "nbconvert_exporter": "python",
   "pygments_lexer": "ipython3",
   "version": "3.9.13 (tags/v3.9.13:6de2ca5, May 17 2022, 16:36:42) [MSC v.1929 64 bit (AMD64)]"
  },
  "orig_nbformat": 4,
  "vscode": {
   "interpreter": {
    "hash": "bf75068fc0a92c8943419a81fa5d494501cbc9abc3d6baa21b77ee9da992efe7"
   }
  }
 },
 "nbformat": 4,
 "nbformat_minor": 2
}
