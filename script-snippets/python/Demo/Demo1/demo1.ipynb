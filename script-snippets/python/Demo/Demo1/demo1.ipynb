{
 "cells": [
  {
   "attachments": {},
   "cell_type": "markdown",
   "metadata": {},
   "source": [
    "# Input & Print"
   ]
  },
  {
   "cell_type": "code",
   "execution_count": 1,
   "metadata": {},
   "outputs": [
    {
     "name": "stdout",
     "output_type": "stream",
     "text": [
      "hello dr\n"
     ]
    }
   ],
   "source": [
    "name = input(\"Enter your name: \")\n",
    "\n",
    "print(\"hello\", name)"
   ]
  },
  {
   "attachments": {},
   "cell_type": "markdown",
   "metadata": {},
   "source": [
    "# if-statement"
   ]
  },
  {
   "cell_type": "code",
   "execution_count": 2,
   "metadata": {},
   "outputs": [
    {
     "ename": "ValueError",
     "evalue": "invalid literal for int() with base 10: ''",
     "output_type": "error",
     "traceback": [
      "\u001b[1;31m---------------------------------------------------------------------------\u001b[0m",
      "\u001b[1;31mValueError\u001b[0m                                Traceback (most recent call last)",
      "Cell \u001b[1;32mIn [2], line 3\u001b[0m\n\u001b[0;32m      1\u001b[0m \u001b[39m# O variabila pe care o citim de la tastaura\u001b[39;00m\n\u001b[0;32m      2\u001b[0m number \u001b[39m=\u001b[39m \u001b[39minput\u001b[39m(\u001b[39m\"\u001b[39m\u001b[39mEnter a number: \u001b[39m\u001b[39m\"\u001b[39m)\n\u001b[1;32m----> 3\u001b[0m number \u001b[39m=\u001b[39m \u001b[39mint\u001b[39;49m(number)\n\u001b[0;32m      5\u001b[0m \u001b[39m# variabila o compar cu ceva\u001b[39;00m\n\u001b[0;32m      6\u001b[0m \u001b[39mif\u001b[39;00m (number \u001b[39m==\u001b[39m \u001b[39m5\u001b[39m):\n\u001b[0;32m      7\u001b[0m     \u001b[39m# daca este adevarat, atunci fac ceva\u001b[39;00m\n",
      "\u001b[1;31mValueError\u001b[0m: invalid literal for int() with base 10: ''"
     ]
    }
   ],
   "source": [
    "# O variabila pe care o citim de la tastaura\n",
    "number = input(\"Enter a number: \")\n",
    "number = int(number)\n",
    "\n",
    "# variabila o compar cu ceva\n",
    "if (number == 5):\n",
    "    # daca este adevarat, atunci fac ceva\n",
    "    print(\"Number is 5\")\n",
    "else:\n",
    "    # daca este fals, atunci fac altceva\n",
    "    print(\"Number is not 5\")\n"
   ]
  },
  {
   "cell_type": "code",
   "execution_count": null,
   "metadata": {},
   "outputs": [],
   "source": [
    "# if(number == 5):\n",
    "#     print(\"Number is 5\")\n",
    "#     print()\n",
    "#     if(number == 5):\n",
    "#         print(\"Number is 5\")\n",
    "#     else:\n",
    "#         print(\"Number is not 5\"\n",
    "# else:\n",
    "#     print(\"Number is not 5\")"
   ]
  },
  {
   "cell_type": "code",
   "execution_count": null,
   "metadata": {},
   "outputs": [],
   "source": []
  },
  {
   "attachments": {},
   "cell_type": "markdown",
   "metadata": {},
   "source": [
    "# Loops"
   ]
  },
  {
   "attachments": {},
   "cell_type": "markdown",
   "metadata": {},
   "source": [
    "## Infinite While"
   ]
  },
  {
   "cell_type": "code",
   "execution_count": null,
   "metadata": {},
   "outputs": [],
   "source": [
    "while(True):\n",
    "    n = input(\"Enter a number: \")\n",
    "    n = int(n)\n",
    "    if(n == 0):\n",
    "        break\n"
   ]
  },
  {
   "attachments": {},
   "cell_type": "markdown",
   "metadata": {},
   "source": [
    "## Repeat X times"
   ]
  },
  {
   "cell_type": "code",
   "execution_count": null,
   "metadata": {},
   "outputs": [],
   "source": [
    "range(5) # 0, 1, 2, 3, 4\n",
    "range(1, 5) # 1, 2, 3, 4\n",
    "range(1, 6) # 1, 2, 3, 4, 5\n",
    "\n",
    "for i in range(1, 6):\n",
    "    print(i)\n",
    "\n",
    "for i in [1,2,3,4,5]:\n",
    "    print(i)"
   ]
  }
 ],
 "metadata": {
  "kernelspec": {
   "display_name": "Python 3",
   "language": "python",
   "name": "python3"
  },
  "language_info": {
   "codemirror_mode": {
    "name": "ipython",
    "version": 3
   },
   "file_extension": ".py",
   "mimetype": "text/x-python",
   "name": "python",
   "nbconvert_exporter": "python",
   "pygments_lexer": "ipython3",
   "version": "3.11.0 (main, Oct 24 2022, 18:26:48) [MSC v.1933 64 bit (AMD64)]"
  },
  "orig_nbformat": 4,
  "vscode": {
   "interpreter": {
    "hash": "c261aea317cc0286b3b3261fbba9abdec21eaa57589985bb7a274bf54d6cc0a7"
   }
  }
 },
 "nbformat": 4,
 "nbformat_minor": 2
}
