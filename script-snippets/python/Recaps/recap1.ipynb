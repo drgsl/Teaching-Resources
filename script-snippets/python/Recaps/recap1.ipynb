{
 "cells": [
  {
   "attachments": {},
   "cell_type": "markdown",
   "metadata": {},
   "source": [
    "Recap"
   ]
  },
  {
   "attachments": {},
   "cell_type": "markdown",
   "metadata": {},
   "source": [
    "-nr pare pana la un nr\n",
    "-suma nr\n",
    "-citire numere\n",
    "-"
   ]
  },
  {
   "attachments": {},
   "cell_type": "markdown",
   "metadata": {},
   "source": [
    "-input()\n",
    "-int()\n",
    "-print()\n",
    "-for\n",
    "-if\n",
    "-n%2 - e par/nu\n",
    "-while\n",
    "-range\n",
    "-\"==\""
   ]
  },
  {
   "attachments": {},
   "cell_type": "markdown",
   "metadata": {},
   "source": [
    "1. Citeste un nr de la tastura\n",
    "2. Afiseaza numarul\n",
    "3. Sa facem \"ceva\" cu el. (\"Ceva\" = sa afisam toate nr intre 1 si nr citit)"
   ]
  },
  {
   "cell_type": "code",
   "execution_count": null,
   "metadata": {},
   "outputs": [],
   "source": []
  }
 ],
 "metadata": {
  "language_info": {
   "name": "python"
  },
  "orig_nbformat": 4
 },
 "nbformat": 4,
 "nbformat_minor": 2
}
