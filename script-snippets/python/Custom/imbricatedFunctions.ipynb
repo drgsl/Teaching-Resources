{
 "cells": [
  {
   "cell_type": "code",
   "execution_count": 4,
   "metadata": {},
   "outputs": [
    {
     "data": {
      "text/plain": [
       "12"
      ]
     },
     "execution_count": 4,
     "metadata": {},
     "output_type": "execute_result"
    }
   ],
   "source": [
    "def minus(a,b):\n",
    "    return a-b\n",
    "\n",
    "def plus(a,b):\n",
    "    return a+b\n",
    "\n",
    "plus(minus(5,2), minus(5,1))"
   ]
  },
  {
   "cell_type": "markdown",
   "metadata": {},
   "source": [
    "((5-2) + (5-1))\n",
    "\n",
    "\n",
    "plus(minus(5,2), minus(5,1))\n",
    "\n",
    "minus(5,2) = 5 - 2 = 3\n",
    "\n",
    "minus(5,1) = 5 - 1 = 4\n",
    "\n",
    "plus(3, 4) = 3 + 4 = 7"
   ]
  }
 ],
 "metadata": {
  "kernelspec": {
   "display_name": "Python 3.9.13 64-bit (microsoft store)",
   "language": "python",
   "name": "python3"
  },
  "language_info": {
   "codemirror_mode": {
    "name": "ipython",
    "version": 3
   },
   "file_extension": ".py",
   "mimetype": "text/x-python",
   "name": "python",
   "nbconvert_exporter": "python",
   "pygments_lexer": "ipython3",
   "version": "3.9.13"
  },
  "orig_nbformat": 4,
  "vscode": {
   "interpreter": {
    "hash": "bf75068fc0a92c8943419a81fa5d494501cbc9abc3d6baa21b77ee9da992efe7"
   }
  }
 },
 "nbformat": 4,
 "nbformat_minor": 2
}
