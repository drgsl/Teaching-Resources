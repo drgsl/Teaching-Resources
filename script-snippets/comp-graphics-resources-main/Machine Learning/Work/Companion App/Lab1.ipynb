{
 "cells": [
  {
   "cell_type": "markdown",
   "metadata": {},
   "source": [
    "# Elementary Notions In Probability\n",
    "\n",
    "A quick reminder on probability theory: https://youtu.be/a-IVT3AxwSg"
   ]
  },
  {
   "cell_type": "markdown",
   "metadata": {},
   "source": [
    "## Sample space $\\Omega$\n",
    "\n",
    "> A _sample space_ is a set with elements describing the outcomes (also called elementary events) of the experiment in which we are interested.\n",
    "\n",
    "Examples:\n",
    "* Tossing a coin:\n",
    "  $\\Omega = \\{Head, Tail\\}$\n",
    "* Number of bees in Europe: $\\Omega = \\mathbb{N}$\n",
    "* Guessing the month when someone is born:\n",
    "  $\\Omega = \\{Jan, Feb, Mar, Apr, May, Jun, Jul, Aug, Sep, Oct, Nov, Dec\\}$\n",
    "  \n",
    "In Python, these can be represented simply as [sets](https://docs.python.org/3/library/stdtypes.html?highlight=set#set)."
   ]
  },
  {
   "cell_type": "code",
   "execution_count": 1,
   "metadata": {},
   "outputs": [
    {
     "name": "stdout",
     "output_type": "stream",
     "text": [
      "Omega: {'T', 'H'}\n"
     ]
    }
   ],
   "source": [
    "omega = {'H', 'T'} # Or use the set() constructor\n",
    "print('Omega:',omega)"
   ]
  },
  {
   "cell_type": "markdown",
   "metadata": {},
   "source": [
    "---\n",
    "**Give it a try!**\n",
    "\n",
    "Print the sample space corresponding to a single die throw, using [`range()`](https://docs.python.org/3/library/functions.html#func-range)."
   ]
  },
  {
   "cell_type": "code",
   "execution_count": 2,
   "metadata": {},
   "outputs": [],
   "source": [
    "# Your code here"
   ]
  },
  {
   "cell_type": "markdown",
   "metadata": {},
   "source": [
    "Expected result: `{1, 2, 3, 4, 5, 6}`\n",
    "\n",
    "---"
   ]
  },
  {
   "cell_type": "markdown",
   "metadata": {},
   "source": [
    "## Event $A \\subseteq \\Omega$\n",
    "\n",
    "> An _event_ is a subset of the sample space.\n",
    "\n",
    "Examples:\n",
    "* The certain event: $\\Omega$\n",
    "* The impossible event: $\\emptyset$\n",
    "* Result of a coin toss: $A = \\{Head\\}$\n",
    "* Knowing the someone is born in a summer month: $A=\\{Jun, Jul, Aug\\}$\n",
    "\n",
    "### Operations\n",
    "\n",
    "Generating a random event from a given sample space is effectively random sampling without replacement, so the `sample` function from the [random](https://docs.python.org/3/library/random.html) library can be used:"
   ]
  },
  {
   "cell_type": "code",
   "execution_count": 3,
   "metadata": {},
   "outputs": [
    {
     "name": "stdout",
     "output_type": "stream",
     "text": [
      "Omega: {0, 1, 2, 3, 4, 5, 6, 7, 8, 9}\n",
      "A: {0, 3, 4}\n",
      "B: {2, 5, 7, 8, 9}\n"
     ]
    }
   ],
   "source": [
    "from random import sample\n",
    "omega = set(range(10))\n",
    "A = set(sample(omega, k=3))\n",
    "B = set(sample(omega, k=5))\n",
    "print(\"Omega:\", omega)\n",
    "print(\"A:\", A)\n",
    "print(\"B:\",B)"
   ]
  },
  {
   "cell_type": "markdown",
   "metadata": {},
   "source": [
    "Since events are sets, we can operate with events using the regular set operations: `union`, `intersection`, `difference`."
   ]
  },
  {
   "cell_type": "code",
   "execution_count": 4,
   "metadata": {},
   "outputs": [
    {
     "name": "stdout",
     "output_type": "stream",
     "text": [
      "{1, 2, 3}\n",
      "{2}\n",
      "{1}\n"
     ]
    }
   ],
   "source": [
    "A = {1, 2}\n",
    "B = {2, 3}\n",
    "omega = {1,2,3,4}\n",
    "print(A.union(B))        # Or A|B\n",
    "print(A.intersection(B)) # Or A&B\n",
    "print(A.difference(B))   # Or A-B"
   ]
  },
  {
   "cell_type": "markdown",
   "metadata": {},
   "source": [
    "We can visualise these operations using the [matplotlib_venn](https://pypi.org/project/matplotlib-venn/) library:"
   ]
  },
  {
   "cell_type": "code",
   "execution_count": 5,
   "metadata": {},
   "outputs": [
    {
     "data": {
      "image/png": "[encoded data removed]",
      "text/plain": [
       "<Figure size 432x288 with 1 Axes>"
      ]
     },
     "metadata": {},
     "output_type": "display_data"
    },
    {
     "data": {
      "image/png": "[encoded data removed]",
      "text/plain": [
       "<Figure size 432x288 with 1 Axes>"
      ]
     },
     "metadata": {},
     "output_type": "display_data"
    }
   ],
   "source": [
    "from tools.venn import A, B, omega, plot_venn\n",
    "plot_venn(omega)   # Print the entire space\n",
    "plot_venn(omega-A) # Print not A"
   ]
  },
  {
   "cell_type": "markdown",
   "metadata": {},
   "source": [
    "---\n",
    "**Give it a try!**\n",
    "\n",
    "Using the `plot_venn()` function and the existing `A`, `B` and `omega` variables, show that $A - B = A \\cap \\neg B$."
   ]
  },
  {
   "cell_type": "code",
   "execution_count": 6,
   "metadata": {},
   "outputs": [],
   "source": [
    "from tools.venn import A, B, omega, plot_venn\n",
    "# Your code here"
   ]
  },
  {
   "cell_type": "markdown",
   "metadata": {},
   "source": [
    "---"
   ]
  },
  {
   "cell_type": "markdown",
   "metadata": {},
   "source": [
    "### Disjoint Events\n",
    "Events A and B are called _disjoint_ or _mutually exclusive_ if A and B have no outcomes in common. In set notation: $A \\cap B = \\emptyset$."
   ]
  },
  {
   "cell_type": "markdown",
   "metadata": {},
   "source": [
    "---\n",
    "**Give it a try!**\n",
    "\n",
    "Determine if the events $A$ and $B$ are disjoint:"
   ]
  },
  {
   "cell_type": "code",
   "execution_count": 7,
   "metadata": {},
   "outputs": [],
   "source": [
    "from random import sample, seed\n",
    "seed(5)\n",
    "A = set(sample(range(1000), k=50))\n",
    "B = set(sample(range(1000), k=50))\n",
    "# Code here"
   ]
  },
  {
   "cell_type": "markdown",
   "metadata": {},
   "source": [
    "Expected result: no, they have elements {186, 707} in common.\n",
    "\n",
    "---"
   ]
  },
  {
   "cell_type": "markdown",
   "metadata": {},
   "source": [
    "## Probability\n",
    "\n",
    "> A _probability function_ $P$ on a finite sample space $\\Omega$ assigns to  each event $A$ in $\\Omega$ a number $P(A)$ in $[0,1]$ such that:\n",
    "> 1. $P(\\Omega)=1$ and\n",
    "> 1. $P(A \\cup B) = P(A)+P(B)$ if $A$ and $B$ are disjoint.\n",
    "\n",
    "The number $P(A)$ is called the probability that $A$ occurs.\n",
    "\n",
    "Consequently, if we have a finite space **and all outcomes are equally likely**:\n",
    "\n",
    "$P(A) = \\frac{\\mbox{#favourable outcomes}}{\\mbox{#all outcomes}} = \\frac{|A|}{|\\Omega|}$\n",
    "\n",
    "Useful properties resulting from the definition:\n",
    "1. $P(\\emptyset) = 0$\n",
    "1. $P(\\neg A) = 1-P(A)$\n",
    "1. $A \\subseteq B \\Rightarrow P(A) \\leq P(B)$\n",
    "1. $P(A \\setminus B) = P(A) - P(A \\cap B)$\n",
    "1. $P(A \\cup B) = P(A) + P(B) - P(A \\cap B)$"
   ]
  },
  {
   "cell_type": "markdown",
   "metadata": {},
   "source": [
    "---\n",
    "**Give it a try!**\n",
    "\n",
    "Prove the first property: $P(\\emptyset) = 0$ using only the definition.\n",
    "\n",
    "---"
   ]
  },
  {
   "cell_type": "markdown",
   "metadata": {},
   "source": [
    "### Example 1\n",
    "\n",
    "What is the probability that a die will turn an even number?"
   ]
  },
  {
   "cell_type": "code",
   "execution_count": 8,
   "metadata": {},
   "outputs": [
    {
     "name": "stdout",
     "output_type": "stream",
     "text": [
      "Omega: {1, 2, 3, 4, 5, 6}\n",
      "A: {2, 4, 6}\n",
      "P(A): 0.5\n"
     ]
    }
   ],
   "source": [
    "from tools.stats import probability\n",
    "\n",
    "omega = set(range(1,7))\n",
    "print('Omega:', omega)\n",
    "A = set(a for a in omega if a % 2 == 0)\n",
    "print('A:', A)\n",
    "print('P(A):', probability(A, omega))"
   ]
  },
  {
   "cell_type": "markdown",
   "metadata": {},
   "source": [
    "### Example 2\n",
    "\n",
    "If not all outcomes are equally likely, we can use a weighted sum instead of simply counting the outcomes. The `probability_weighted` function does just that. \n",
    "\n",
    "If we have an unfair coin with a 75% chance of showing 'Head':"
   ]
  },
  {
   "cell_type": "code",
   "execution_count": 9,
   "metadata": {},
   "outputs": [
    {
     "data": {
      "text/plain": [
       "0.75"
      ]
     },
     "execution_count": 9,
     "metadata": {},
     "output_type": "execute_result"
    }
   ],
   "source": [
    "from tools.stats import probability_weighted, WeightedOutcome\n",
    "from dataclasses import dataclass\n",
    "\n",
    "@dataclass(frozen=True)\n",
    "class Outcome(WeightedOutcome):\n",
    "    side: str\n",
    "        \n",
    "omega = set([Outcome(side='Head', weight=0.75), \n",
    "            Outcome(side='Tail', weight=0.25)])\n",
    "A = set(o for o in omega if o.side is 'Head')\n",
    "probability_weighted(A, omega)"
   ]
  },
  {
   "cell_type": "markdown",
   "metadata": {},
   "source": [
    "## Products of sample spaces\n",
    "\n",
    "Often in practice, more than one experiment is considered at a time. For instance, if we throw a coin two times, we would have two sample spaces $\\Omega_2 = \\Omega_1 = \\{H, T\\}$.\n",
    "\n",
    "We can treat both trows as a single event with the sample space \n",
    "\n",
    "$\\Omega = \\Omega_1 \\times \\Omega_2 = \\{(H,H), (H,T), (T,H), (T,T)\\}$\n",
    "\n",
    "or generally\n",
    "\n",
    "$\\Omega = \\Omega_1 \\times \\Omega_2 = \\{(\\omega_1, \\omega_2): \\omega_1 \\in \\Omega_1, \\omega_2 \\in \\Omega_2\\}$\n",
    "\n",
    "This corresonds to a cartesian product, so in Python it can be achieved throught the [product](https://docs.python.org/3/library/itertools.html#itertools.product) function:"
   ]
  },
  {
   "cell_type": "code",
   "execution_count": 10,
   "metadata": {},
   "outputs": [
    {
     "name": "stdout",
     "output_type": "stream",
     "text": [
      "{('b', 1), ('b', 2), ('a', 1), ('a', 2)}\n"
     ]
    }
   ],
   "source": [
    "from itertools import product\n",
    "A = set(product(['a','b'], [1, 2]))\n",
    "print(A)"
   ]
  },
  {
   "cell_type": "markdown",
   "metadata": {},
   "source": [
    "### Example\n",
    "\n",
    "What is the probability that by throwing a coin two times we will get tails at least once?"
   ]
  },
  {
   "cell_type": "code",
   "execution_count": 11,
   "metadata": {},
   "outputs": [
    {
     "name": "stdout",
     "output_type": "stream",
     "text": [
      "Omega: {('H', 'T'), ('H', 'H'), ('T', 'H'), ('T', 'T')}\n",
      "A: {('T', 'T'), ('T', 'H'), ('H', 'T')}\n",
      "P(A)= 0.75\n"
     ]
    }
   ],
   "source": [
    "from itertools import product\n",
    "from tools.stats import probability\n",
    "omega_1=set(['H', 'T'])\n",
    "omega_2=set(['H', 'T'])\n",
    "omega=set(product(omega_1, omega_2))\n",
    "print('Omega:', omega)\n",
    "A = set(a for a in omega if 'T' in a)\n",
    "print('A:', A)\n",
    "print('P(A)=', probability(A, omega))"
   ]
  },
  {
   "cell_type": "markdown",
   "metadata": {},
   "source": [
    "---\n",
    "**Give it a try!**\n",
    "\n",
    "What is the probability that a family with two children will have two girls?\n"
   ]
  },
  {
   "cell_type": "code",
   "execution_count": 12,
   "metadata": {},
   "outputs": [],
   "source": [
    "from itertools import product\n",
    "from tools.stats import probability\n",
    "omega_1={'B', 'G'} # First child\n",
    "omega_2={'B', 'G'} # Second child\n",
    "# Your code here"
   ]
  },
  {
   "cell_type": "markdown",
   "metadata": {},
   "source": [
    "Expected result: 0.25\n",
    "\n",
    "---"
   ]
  },
  {
   "cell_type": "markdown",
   "metadata": {},
   "source": [
    "## Conditional probabilities\n",
    "\n",
    "> The _conditional probability of A given B_ is defined as:\n",
    "> \n",
    "> $P(A|B)= \\frac{P(A\\cap B)}{P(B)}$\n",
    "\n",
    "Also called _posterior probability of A, given B_.\n",
    "\n",
    "Useful properties resulting from the definition:\n",
    "1. The multiplication rule:\n",
    "\n",
    "  $P(A \\cap B) = P(A|B)P(B) = P(B|A)P(A)$ \n",
    "  \n",
    "1. The chain rule:\n",
    "\n",
    "  $P(A_1 \\cap A_2 ... \\cap A_n) = P(A_1)P(A_2|A_1)...P(A_n|A_1,A_2,...,A_{n-1})$\n",
    "  \n",
    "1. The law of total probability (for two events):\n",
    "\n",
    "  $P(A) = P(A|B)P(B)+P(A| \\neg B)P(\\neg B)$\n",
    "  \n",
    "1. The law of total probability (for multiple events):\n",
    "\n",
    "  $P(A) = P(A|B_1)P(B_1)+P(A|B_2)P(B_2)+...+P(A|B_n)P(B_n)$ where $B_1,...B_n$ are disjoint events such that $A \\subseteq  B_1 \\cup ... \\cup B_n$"
   ]
  },
  {
   "cell_type": "markdown",
   "metadata": {},
   "source": [
    "### Example\n",
    "\n",
    "What is the probability that the current month has 31 days knowning that it's summer? We can model the problem using events like this:\n",
    "* $\\Omega$ is the sample spece of all months: $\\Omega = \\{Jan, Feb, Mar, Apr, May, Jun, Jul, Aug, Sep, Oct, Nov, Dec\\}$\n",
    "* $A$ is the event \"month with 31 days\": $A=\\{Jan, Mar, May, Jul, Aug, Oct, Dec\\}$\n",
    "* $B$ is the event \"month is a summer month\": $B=\\{Jun, Jul, Aug\\}$\n",
    "* We are interested in finding $P(A|B)$.\n",
    "\n",
    "$P(A|B)= \\frac{P(A\\cap B)}{P(B)} = \\frac{|\\{Jul, Aug\\}|}{|\\{Jun, Jul, Aug\\}|}=\\frac{2}{3}$\n",
    "\n",
    "Or, using Python and the `probability` function defined above:"
   ]
  },
  {
   "cell_type": "code",
   "execution_count": 13,
   "metadata": {},
   "outputs": [
    {
     "name": "stdout",
     "output_type": "stream",
     "text": [
      "0.6666666666666666\n",
      "0.6666666666666666\n"
     ]
    }
   ],
   "source": [
    "from tools.stats import probability\n",
    "omega = set(['Jan', 'Feb', 'Mar', 'Apr', 'May', 'Jun', \n",
    "             'Jul', 'Aug', 'Sep', 'Oct', 'Nov', 'Dec'])\n",
    "A = set(['Jan', 'Mar', 'May', 'Jul', 'Aug', 'Oct', 'Dec'])\n",
    "B = set(['Jun', 'Jul', 'Aug'])\n",
    "res1 = probability(A&B, omega) / probability(B, omega)\n",
    "res2 = probability(A&B, B) # We can just repace omega with B\n",
    "print(res1)\n",
    "print(res2)"
   ]
  },
  {
   "cell_type": "markdown",
   "metadata": {},
   "source": [
    "# Bayes' Theorem\n",
    "\n",
    "![Bayes Theorem neon sign at HP Authonomy](img/Bayes_Theorem.jpg)\n",
    "\n",
    "Bayes' theorem can be interpreted as linking the degree of belief in a proposition before and after accounting for evidence."
   ]
  },
  {
   "cell_type": "markdown",
   "metadata": {},
   "source": [
    "---\n",
    "**Give it a try!**\n",
    "\n",
    "Prove Bayes' theorem using the definition of conditional probabilities.\n",
    "\n",
    "---"
   ]
  },
  {
   "cell_type": "markdown",
   "metadata": {},
   "source": [
    "# Independent events\n",
    "\n",
    "> An event A is called _independent of B_ if $P(A|B)=P(A)$\n",
    "\n",
    "Useful properties:\n",
    "1. Two events $A$ and $B$ are independent if $P(A \\cap B) = P(A)P(B)$\n",
    "1. Conditionally independent events: $P(A\\cap B\\ |\\ C)=P(A|C)P(B|C)$"
   ]
  }
 ],
 "metadata": {
  "kernelspec": {
   "display_name": "Python 3.9.13 64-bit (microsoft store)",
   "language": "python",
   "name": "python3"
  },
  "language_info": {
   "codemirror_mode": {
    "name": "ipython",
    "version": 3
   },
   "file_extension": ".py",
   "mimetype": "text/x-python",
   "name": "python",
   "nbconvert_exporter": "python",
   "pygments_lexer": "ipython3",
   "version": "3.9.13"
  },
  "vscode": {
   "interpreter": {
    "hash": "bf75068fc0a92c8943419a81fa5d494501cbc9abc3d6baa21b77ee9da992efe7"
   }
  }
 },
 "nbformat": 4,
 "nbformat_minor": 4
}
