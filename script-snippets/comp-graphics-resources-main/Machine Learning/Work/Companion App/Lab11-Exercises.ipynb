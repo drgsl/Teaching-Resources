{
 "cells": [
  {
   "cell_type": "markdown",
   "metadata": {},
   "source": [
    "# k-Means\n",
    "\n",
    "## Exercise 1\n",
    "k-Means on two-dimensional data with cluster separators\n",
    "\n",
    "For the dataset below, plot the clusters and the centroids of the k-means algorithm for each iteration until convergence. The initial centroids will be the points A, D and G (therefore the algorithm will find 3 clusters). Include in each plot the Voronoi diagram for the centroids, to highlight the cluster separation."
   ]
  },
  {
   "cell_type": "code",
   "execution_count": 16,
   "metadata": {},
   "outputs": [
    {
     "data": {
      "image/png": "[encoded data removed]",
      "text/plain": [
       "<Figure size 640x480 with 1 Axes>"
      ]
     },
     "metadata": {},
     "output_type": "display_data"
    },
    {
     "ename": "ModuleNotFoundError",
     "evalue": "No module named 'sklearn'",
     "output_type": "error",
     "traceback": [
      "\u001b[1;31m---------------------------------------------------------------------------\u001b[0m",
      "\u001b[1;31mModuleNotFoundError\u001b[0m                       Traceback (most recent call last)",
      "Cell \u001b[1;32mIn [16], line 17\u001b[0m\n\u001b[0;32m     14\u001b[0m plt\u001b[39m.\u001b[39mshow()\n\u001b[0;32m     16\u001b[0m \u001b[39m# \u001b[39;00m\n\u001b[1;32m---> 17\u001b[0m \u001b[39mfrom\u001b[39;00m \u001b[39msklearn\u001b[39;00m\u001b[39m.\u001b[39;00m\u001b[39mcluster\u001b[39;00m \u001b[39mimport\u001b[39;00m KMeans\n\u001b[0;32m     19\u001b[0m km \u001b[39m=\u001b[39m KMeans(n_clusters\u001b[39m=\u001b[39m\u001b[39m3\u001b[39m, random_state\u001b[39m=\u001b[39m\u001b[39m1\u001b[39m)\n\u001b[0;32m     20\u001b[0m clusters \u001b[39m=\u001b[39m km\u001b[39m.\u001b[39mfit_predict(d)\n",
      "\u001b[1;31mModuleNotFoundError\u001b[0m: No module named 'sklearn'"
     ]
    }
   ],
   "source": [
    "import pandas as pd\n",
    "data = {\n",
    "    'A':[2, 10], 'B':[2, 5], 'C':[8, 4], 'D':[5, 8], \n",
    "    'E':[7, 5], 'F':[6, 4],  'G':[1, 2], 'H':[4, 9]\n",
    "}\n",
    "d = pd.DataFrame.from_dict(data, orient='index', columns=['X', 'Y'])\n",
    "\n",
    "# print(d)\n",
    "\n",
    "# Display Dataframe\n",
    "import numpy as np  \n",
    "import matplotlib.pyplot as plt\n",
    "plt.scatter(d['X'], d['Y'])\n",
    "plt.show()\n",
    "\n",
    "# \n",
    "from sklearn.cluster import KMeans\n",
    "\n",
    "km = KMeans(n_clusters=3, random_state=1)\n",
    "clusters = km.fit_predict(d)\n",
    "\n",
    "print(clusters)\n",
    "\n"
   ]
  },
  {
   "cell_type": "markdown",
   "metadata": {},
   "source": [
    "## Exercise 2\n",
    "k-Means on two-dimensional data\n",
    "\n",
    "For the dataset below and the initial centroids A, D and G, independently implement the k-Means algorithm (i.e. do not use the one from `sklearn`) and plot the clusters and centroids for each iteration."
   ]
  },
  {
   "cell_type": "code",
   "execution_count": null,
   "metadata": {},
   "outputs": [],
   "source": [
    "import pandas as pd\n",
    "data = {\n",
    "    'A':[2, 10], 'B':[2, 5], 'C':[8, 4], 'D':[5, 8], \n",
    "    'E':[7, 5], 'F':[6, 4],  'G':[1, 2], 'H':[4, 9]\n",
    "}\n",
    "d = pd.DataFrame.from_dict(data, orient='index', columns=['X', 'Y'])"
   ]
  },
  {
   "cell_type": "markdown",
   "metadata": {},
   "source": [
    "## Exercise 3\n",
    "k-Means on an external dataset with starting centroids\n",
    "\n",
    "Apply k-means on this [two-dimensional dataset](https://profs.info.uaic.ro/~ciortuz/ML.ex-book/res/CMU.2004f.TM+AM.HW3.pr5.cl.dat) using these [starting centroids](https://profs.info.uaic.ro/~ciortuz/ML.ex-book/res/CMU.2004f.TM+AM.HW3.pr5.init.dat). Plot the clusters and centroids after each iteration until convergence. What is unusual about about the first iteration?"
   ]
  },
  {
   "cell_type": "code",
   "execution_count": null,
   "metadata": {},
   "outputs": [],
   "source": [
    "# 0.30 1.75\n",
    "# 0.30 2.00\n",
    "# 0.30 2.25"
   ]
  },
  {
   "cell_type": "markdown",
   "metadata": {},
   "source": [
    "## Exercise 4\n",
    "Anisotropically distributed data\n",
    "\n",
    "Run the k-means algorithm for the datasets `d1` and `d2` with $k=3$ and the default parameters. \n",
    "1. Plot the resulting clusters.\n",
    "1. Which clusters look more 'natural' and why?"
   ]
  },
  {
   "cell_type": "code",
   "execution_count": null,
   "metadata": {},
   "outputs": [
    {
     "ename": "ModuleNotFoundError",
     "evalue": "No module named 'sklearn'",
     "output_type": "error",
     "traceback": [
      "\u001b[1;31m---------------------------------------------------------------------------\u001b[0m",
      "\u001b[1;31mModuleNotFoundError\u001b[0m                       Traceback (most recent call last)",
      "Cell \u001b[1;32mIn [14], line 1\u001b[0m\n\u001b[1;32m----> 1\u001b[0m \u001b[39mfrom\u001b[39;00m \u001b[39msklearn\u001b[39;00m\u001b[39m.\u001b[39;00m\u001b[39mdatasets\u001b[39;00m \u001b[39mimport\u001b[39;00m make_blobs\n\u001b[0;32m      2\u001b[0m \u001b[39mimport\u001b[39;00m \u001b[39mnumpy\u001b[39;00m \u001b[39mas\u001b[39;00m \u001b[39mnp\u001b[39;00m\n\u001b[0;32m      4\u001b[0m n_samples \u001b[39m=\u001b[39m \u001b[39m1500\u001b[39m\n",
      "\u001b[1;31mModuleNotFoundError\u001b[0m: No module named 'sklearn'"
     ]
    }
   ],
   "source": [
    "from sklearn.datasets import make_blobs\n",
    "import numpy as np\n",
    "\n",
    "n_samples = 1500\n",
    "random_state = 170\n",
    "X, y = make_blobs(n_samples=n_samples, random_state=random_state)\n",
    "# Anisotropically distributed data\n",
    "transformation = [[0.60834549, -0.63667341], [-0.40887718, 0.85253229]]\n",
    "anis = np.dot(X, transformation)\n",
    "# Compare these datasets\n",
    "d1, d2 = X, anis"
   ]
  },
  {
   "cell_type": "markdown",
   "metadata": {},
   "source": [
    "## Exercise 5\n",
    "k-means and noise\n",
    "\n",
    "Considering the dataset `d` below and two sets of starting centroids `c1` and `c2`.\n",
    "\n",
    "1. Run k-means ($k=3$ and the default parameters), first starting with `c1` and then starting with `c2`. (You might want to also use `n_init=1` to prevent a warning.)\n",
    "1. Plot the resulting clusters for each of the two runs.\n",
    "1. In which of the two runs the clusters look more 'natural' and why?"
   ]
  },
  {
   "cell_type": "code",
   "execution_count": null,
   "metadata": {},
   "outputs": [],
   "source": [
    "from sklearn.datasets import make_blobs\n",
    "import numpy as np\n",
    "\n",
    "n_samples = 1500\n",
    "random_state = 110\n",
    "d, _ = make_blobs(n_samples=n_samples, random_state=random_state)\n",
    "# Dataset\n",
    "d = np.append(d, [[-10, 15]], axis=0)\n",
    "# Starting centroids\n",
    "c1 = np.array([[-6, 2], [-10, 15], [3, 3]])\n",
    "c2 = np.array([[-10, 3], [-2, 2], [3, 3]])"
   ]
  }
 ],
 "metadata": {
  "kernelspec": {
   "display_name": "Python 3",
   "language": "python",
   "name": "python3"
  },
  "language_info": {
   "codemirror_mode": {
    "name": "ipython",
    "version": 3
   },
   "file_extension": ".py",
   "mimetype": "text/x-python",
   "name": "python",
   "nbconvert_exporter": "python",
   "pygments_lexer": "ipython3",
   "version": "3.9.13 (tags/v3.9.13:6de2ca5, May 17 2022, 16:36:42) [MSC v.1929 64 bit (AMD64)]"
  },
  "vscode": {
   "interpreter": {
    "hash": "bf75068fc0a92c8943419a81fa5d494501cbc9abc3d6baa21b77ee9da992efe7"
   }
  }
 },
 "nbformat": 4,
 "nbformat_minor": 4
}
