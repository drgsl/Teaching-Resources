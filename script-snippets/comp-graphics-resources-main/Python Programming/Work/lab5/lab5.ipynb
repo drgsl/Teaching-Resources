{
 "cells": [
  {
   "cell_type": "markdown",
   "metadata": {},
   "source": [
    "## Exercise 1"
   ]
  },
  {
   "cell_type": "markdown",
   "metadata": {},
   "source": [
    "#### a)"
   ]
  },
  {
   "cell_type": "markdown",
   "metadata": {},
   "source": [
    "***\n",
    "Write a module named utils.py that contains one function called process_item. The function will have one parameter, x, and will return the least prime number greater than x. When run, the module will request an input from the user, convert it to a number and it will display the output of the process_item function.\n",
    "***"
   ]
  },
  {
   "cell_type": "markdown",
   "metadata": {},
   "source": [
    "Solution:"
   ]
  },
  {
   "cell_type": "code",
   "execution_count": 2,
   "metadata": {},
   "outputs": [],
   "source": [
    "def process_item(x):\n",
    "    x = int(x)\n",
    "    while True:\n",
    "        if x > 0:\n",
    "            x += 1\n",
    "            for i in range(2, (x//2)+1):\n",
    "                if x % i == 0:\n",
    "                    break\n",
    "            else:\n",
    "                return x\n",
    "        else:\n",
    "            x += 1"
   ]
  },
  {
   "cell_type": "markdown",
   "metadata": {},
   "source": [
    "### b)"
   ]
  },
  {
   "cell_type": "markdown",
   "metadata": {},
   "source": [
    "***\n",
    "Write a module named app.py. When this module is run, it will run in an infinite loop, waiting for inputs from the user. The program will convert the input to a number and process it using the function process_item implented in utils.py. You will have to import this function in your module. The program stops when the user enters the message \"q\".\n",
    "***"
   ]
  },
  {
   "cell_type": "markdown",
   "metadata": {},
   "source": [
    "Solution:"
   ]
  },
  {
   "cell_type": "code",
   "execution_count": 8,
   "metadata": {},
   "outputs": [
    {
     "name": "stdout",
     "output_type": "stream",
     "text": [
      "If you want to exit press q and enter\n",
      "The next prime number after 5 is: 7\n",
      "The next prime number after 6 is: 7\n",
      "The next prime number after 3 is: 5\n",
      "The next prime number after 4 is: 5\n",
      "The next prime number after 5 is: 7\n",
      "Sorry to see you go!\n"
     ]
    }
   ],
   "source": [
    "import utils\n",
    "\n",
    "print(\"If you want to exit press q and enter\")\n",
    "while True:\n",
    "    numb = input(\"Please enter a number:\")\n",
    "    if numb == 'q':\n",
    "        print(\"Sorry to see you go!\")\n",
    "        break\n",
    "    print(f\"The next prime number after {numb} is: {process_item(numb)}\")"
   ]
  },
  {
   "cell_type": "markdown",
   "metadata": {},
   "source": [
    "## Exercise 2"
   ]
  },
  {
   "cell_type": "markdown",
   "metadata": {},
   "source": [
    "***\n",
    "Create a function and an anonymous function that receive a variable number of arguments. Both will return the sum of the values of the keyword arguments.\n",
    "***"
   ]
  },
  {
   "cell_type": "markdown",
   "metadata": {},
   "source": [
    "Example:"
   ]
  },
  {
   "cell_type": "code",
   "execution_count": 32,
   "metadata": {},
   "outputs": [
    {
     "data": {
      "text/plain": [
       "7"
      ]
     },
     "execution_count": 32,
     "metadata": {},
     "output_type": "execute_result"
    }
   ],
   "source": [
    "# For the call \n",
    "# \n",
    "getSumKeywordArgs(1, 2, c=3, d=4) \n",
    "# \n",
    "# the returned value will be 7."
   ]
  },
  {
   "cell_type": "markdown",
   "metadata": {},
   "source": [
    "Solution:"
   ]
  },
  {
   "cell_type": "code",
   "execution_count": 33,
   "metadata": {},
   "outputs": [
    {
     "name": "stdout",
     "output_type": "stream",
     "text": [
      "7\n"
     ]
    }
   ],
   "source": [
    "def getSumKeywordArgs(*args, **kwargs):\n",
    "    summ = 0\n",
    "    for k, v in kwargs.items():\n",
    "        summ += v\n",
    "    return summ\n",
    "\n",
    "\n",
    "print(getSumKeywordArgs(1, 2, c=3, d=4))"
   ]
  },
  {
   "cell_type": "markdown",
   "metadata": {},
   "source": [
    "## Exercise 3"
   ]
  },
  {
   "cell_type": "markdown",
   "metadata": {},
   "source": [
    "***\n",
    "Using functions, anonymous functions, list comprehensions and filter, implement three methods to generate a list with all the vowels in a given string.\n",
    "***"
   ]
  },
  {
   "cell_type": "markdown",
   "metadata": {},
   "source": [
    "Example:"
   ]
  },
  {
   "cell_type": "code",
   "execution_count": 34,
   "metadata": {},
   "outputs": [],
   "source": [
    "# For the string \"Programming in Python is fun\"\n",
    "#  \n",
    "# the list returned will be ['o', 'a', 'i', 'i', 'o', 'i', 'u']."
   ]
  },
  {
   "cell_type": "markdown",
   "metadata": {},
   "source": [
    "Solution:"
   ]
  },
  {
   "cell_type": "code",
   "execution_count": 38,
   "metadata": {},
   "outputs": [
    {
     "name": "stdout",
     "output_type": "stream",
     "text": [
      "Result with iteration through string ['o', 'a', 'i', 'i', 'o', 'i', 'u']\n",
      "Result with lambda and filter ['o', 'a', 'i', 'i', 'o', 'i', 'u']\n",
      "Result with list comprehension?? ['o', 'a', 'i', 'i', 'o', 'i', 'u']\n"
     ]
    }
   ],
   "source": [
    "inString = \"Programming in Python is fun\"\n",
    "\n",
    "def vowels1(text):\n",
    "    vow = []\n",
    "    for i in text:\n",
    "        if i in \"aeiou\":\n",
    "            vow.append(i)\n",
    "    return vow\n",
    "\n",
    "\n",
    "vowels2 = list(filter(lambda el: el in \"aeiou\", inString))\n",
    "vowels3 = [v for v in inString if v in \"aeiou\"]\n",
    "\n",
    "print(\"Result with iteration through string\", vowels1(inString))\n",
    "print(\"Result with lambda and filter\", vowels2)\n",
    "print(\"Result with list comprehension??\", vowels3)"
   ]
  },
  {
   "cell_type": "markdown",
   "metadata": {},
   "source": [
    "## Exercise 4\n"
   ]
  },
  {
   "cell_type": "markdown",
   "metadata": {},
   "source": [
    "***\n",
    "Write a function that receives a variable number of arguments and keyword arguments. The function returns a list containing only the arguments which are dictionaries, containing minimum 2 keys and at least one string key with minimum 3 characters.\n",
    "***"
   ]
  },
  {
   "cell_type": "markdown",
   "metadata": {},
   "source": [
    "Example:"
   ]
  },
  {
   "cell_type": "code",
   "execution_count": 47,
   "metadata": {},
   "outputs": [
    {
     "name": "stdout",
     "output_type": "stream",
     "text": [
      "[{'abc': 4, 'def': 5}, {1: 1, 'test': True}]\n"
     ]
    }
   ],
   "source": [
    "getSpecificDictionaries(\n",
    "{1: 2, 3: 4, 5: 6},\n",
    "{'a': 5, 'b': 7, 'c': 'e'}, \n",
    "{2: 3}, \n",
    "[1, 2, 3],\n",
    "{'abc': 4, 'def': 5},\n",
    "3764,\n",
    "dictionar={'ab': 4, 'ac': 'abcde', 'fg': 'abc'},\n",
    "test={1: 1, 'test': True})\n",
    "\n",
    "\n",
    "# will return: \n",
    "# [{'abc': 4, 'def': 5}, {1: 1, 'test': True}]"
   ]
  },
  {
   "cell_type": "markdown",
   "metadata": {},
   "source": [
    "Solution:"
   ]
  },
  {
   "cell_type": "code",
   "execution_count": 48,
   "metadata": {},
   "outputs": [],
   "source": [
    "def getSpecificDictionaries(*args, **kwargs):\n",
    "    lst = list(\n",
    "        filter(lambda el: type(el) is dict and len(el) >= 2 and list(filter(lambda k: len(str(k)) >= 3, el.keys())),\n",
    "               args))\n",
    "    lst += list(\n",
    "        filter(lambda el: type(el) is dict and len(el) >= 2 and list(filter(lambda k: len(str(k)) >= 3, el.keys())),\n",
    "               kwargs.values()))\n",
    "    print(lst)\n",
    "\n",
    "    '''\n",
    "    res = []\n",
    "    for item in args:\n",
    "        if type(item) is dict:\n",
    "            if len(item) >= 2:\n",
    "                for k in item.keys():\n",
    "                    if len(str(k)) >= 3:\n",
    "                        res.append(item)\n",
    "                        break\n",
    "    for item in kwargs.values():\n",
    "        if type(item) is dict:\n",
    "            if len(item) >= 2:\n",
    "                for k in item.keys():\n",
    "                    if len(str(k)) >= 3:\n",
    "                        res.append(item)\n",
    "                        break\n",
    "    print(res)\n",
    "    '''"
   ]
  },
  {
   "cell_type": "markdown",
   "metadata": {},
   "source": [
    "## Exercise 5"
   ]
  },
  {
   "cell_type": "markdown",
   "metadata": {},
   "source": [
    "***\n",
    "Write a function with one parameter which represents a list. The function will return a new list containing all the numbers found in the given list.\n",
    "***"
   ]
  },
  {
   "cell_type": "markdown",
   "metadata": {},
   "source": [
    "Example:"
   ]
  },
  {
   "cell_type": "code",
   "execution_count": 55,
   "metadata": {},
   "outputs": [
    {
     "data": {
      "text/plain": [
       "[1, 5, 6, 3.0]"
      ]
     },
     "execution_count": 55,
     "metadata": {},
     "output_type": "execute_result"
    }
   ],
   "source": [
    "getNumbersFromList(\n",
    "    [1,\n",
    "     \"2\", \n",
    "    {\"3\": \"a\"},\n",
    "    {4, 5}, \n",
    "    5, \n",
    "    6, \n",
    "    3.0])\n",
    "\n",
    "# will return \n",
    "# [1, 5, 6, 3.0]"
   ]
  },
  {
   "cell_type": "markdown",
   "metadata": {},
   "source": [
    "Solution:"
   ]
  },
  {
   "cell_type": "code",
   "execution_count": 56,
   "metadata": {},
   "outputs": [
    {
     "name": "stdout",
     "output_type": "stream",
     "text": [
      "[1, 5, 6, 3.0, (5+3j)]\n"
     ]
    }
   ],
   "source": [
    "def getNumbersFromList(lst):\n",
    "    res =[]\n",
    "    for items in lst:\n",
    "        if type(items) == int or type(items) == float or type(items) == complex:\n",
    "            res.append(items)\n",
    "    return res\n",
    "\n",
    "\n",
    "print(getNumbersFromList([1, \"2\", {\"3\": \"a\"}, {4, 5}, 5, 6, 3.0, 5+3j]))"
   ]
  },
  {
   "cell_type": "markdown",
   "metadata": {},
   "source": [
    "## Exercise 6"
   ]
  },
  {
   "cell_type": "markdown",
   "metadata": {},
   "source": [
    "***\n",
    "Write a function that receives a list with integers as parameter that contains an equal number of even and odd numbers that are in no specific order. The function should return a list of pairs (tuples of 2 elements) of numbers (Xi, Yi) such that Xi is the i-th even number in the list and Yi is the i-th odd number\n",
    "***"
   ]
  },
  {
   "cell_type": "markdown",
   "metadata": {},
   "source": [
    "Example:"
   ]
  },
  {
   "cell_type": "code",
   "execution_count": 60,
   "metadata": {},
   "outputs": [
    {
     "name": "stdout",
     "output_type": "stream",
     "text": [
      "[(2, 1), (8, 3), (4, 5), (10, 7), (2, 9)]\n"
     ]
    }
   ],
   "source": [
    "pair([1, 3, 5, 2, 8, 7, 4, 10, 9, 2]) \n",
    "\n",
    "# will return \n",
    "# [(2, 1), (8, 3), (4, 5), (10, 7), (2, 9)]"
   ]
  },
  {
   "cell_type": "markdown",
   "metadata": {},
   "source": [
    "Solution:"
   ]
  },
  {
   "cell_type": "code",
   "execution_count": 61,
   "metadata": {},
   "outputs": [
    {
     "name": "stdout",
     "output_type": "stream",
     "text": [
      "[(2, 1), (8, 3), (4, 5), (10, 7), (2, 9)]\n"
     ]
    }
   ],
   "source": [
    "def pair(l):\n",
    "    odd = [i for i in l if i % 2 == 1]\n",
    "    even = [i for i in l if i % 2 == 0]\n",
    "    res = [i for i in zip(even, odd)]\n",
    "    print(res)\n",
    "\n",
    "pair([1, 3, 5, 2, 8, 7, 4, 10, 9, 2])"
   ]
  },
  {
   "cell_type": "markdown",
   "metadata": {},
   "source": [
    "## Exercise 7"
   ]
  },
  {
   "cell_type": "markdown",
   "metadata": {},
   "source": [
    "***\n",
    "Write a function called process that receives a variable number of keyword arguments\n",
    "\n",
    "The function generates the first 1000 numbers of the Fibonacci sequence and then processes them in the following way:\n",
    "\n",
    "If the function receives a parameter called filters, this will be a list of predicates (function receiving an argument and returning True/False) and will retain from the generated numbers only those for which the predicates are True. \n",
    "\n",
    "If the function receives a parameter called limit, it will return only that amount of numbers from the sequence. \n",
    "\n",
    "If the function receives a parameter called offset, it will skip that number of entries from the beginning of the result list. \n",
    "\n",
    "The function will return the processed numbers.\n",
    "***"
   ]
  },
  {
   "cell_type": "markdown",
   "metadata": {},
   "source": [
    "Example:"
   ]
  },
  {
   "cell_type": "code",
   "execution_count": 69,
   "metadata": {},
   "outputs": [
    {
     "name": "stdout",
     "output_type": "stream",
     "text": [
      "[34, 144]\n"
     ]
    }
   ],
   "source": [
    "def sum_digits(x):\n",
    "    return sum(map(int, str(x)))\n",
    "\n",
    "process_numbers(\n",
    "    filters=[lambda item: item % 2 == 0, lambda item: item == 2 or 4 <= sum_digits(item) <= 20],\n",
    "    limit=2,\n",
    "    offset=2\n",
    ")\n",
    "# returns [34, 144]"
   ]
  },
  {
   "cell_type": "markdown",
   "metadata": {},
   "source": [
    "Explanation:"
   ]
  },
  {
   "cell_type": "code",
   "execution_count": 70,
   "metadata": {},
   "outputs": [],
   "source": [
    "# Fibonacci sequence will be: 0, 1, 1, 2, 3, 5, 8, 13, 21, 34, 55, 89, 144, 233, 377, 610...\n",
    "\n",
    "# Valid numbers are: 2, 8, 34, 144, 610, 2584, 10946, 832040\n",
    "\n",
    "# After offset: 34, 144, 610, 2584, 10946, 832040\n",
    "\n",
    "# After limit: 34, 144"
   ]
  },
  {
   "cell_type": "markdown",
   "metadata": {},
   "source": [
    "Solution:"
   ]
  },
  {
   "cell_type": "code",
   "execution_count": 71,
   "metadata": {},
   "outputs": [
    {
     "name": "stdout",
     "output_type": "stream",
     "text": [
      "[34, 144]\n"
     ]
    }
   ],
   "source": [
    "def process_numbers(**kwargs):\n",
    "    fib = [0, 1, 1]\n",
    "    ct = 3\n",
    "    while ct < 1000:\n",
    "        fib.append(fib[ct-1]+fib[ct-2])\n",
    "        ct += 1\n",
    "    if 'filters' in kwargs.keys():\n",
    "        for l in kwargs['filters']:\n",
    "            fib = list(i for i in fib if l(i))\n",
    "    if 'offset' in kwargs.keys():\n",
    "        fib = fib[kwargs['offset']:]\n",
    "    if 'limit' in kwargs.keys():\n",
    "        print(fib[:kwargs['limit']])\n",
    "\n",
    "\n",
    "process_numbers(filters=[lambda item: item % 2 == 0, lambda item: item == 2 or 4 <= sum_digits(item) <= 20], limit=2, offset=2)"
   ]
  },
  {
   "cell_type": "markdown",
   "metadata": {},
   "source": [
    "## Exercise 8"
   ]
  },
  {
   "cell_type": "markdown",
   "metadata": {},
   "source": [
    "#### a)"
   ]
  },
  {
   "cell_type": "markdown",
   "metadata": {},
   "source": [
    "***\n",
    "Write a function called print_arguments with one parameter named function. \n",
    "\n",
    "The function will return one new function which prints the arguments and the keyword arguments received and will return the output of the function receives as a parameter.\n",
    "***"
   ]
  },
  {
   "cell_type": "markdown",
   "metadata": {},
   "source": [
    "Example:"
   ]
  },
  {
   "cell_type": "code",
   "execution_count": 72,
   "metadata": {},
   "outputs": [
    {
     "ename": "NameError",
     "evalue": "name 'print_arguments' is not defined",
     "output_type": "error",
     "traceback": [
      "\u001b[1;31m---------------------------------------------------------------------------\u001b[0m",
      "\u001b[1;31mNameError\u001b[0m                                 Traceback (most recent call last)",
      "Cell \u001b[1;32mIn [72], line 13\u001b[0m\n\u001b[0;32m      7\u001b[0m \u001b[39mdef\u001b[39;00m \u001b[39madd_numbers\u001b[39m(a, b):\n\u001b[0;32m      9\u001b[0m     \u001b[39mreturn\u001b[39;00m a \u001b[39m+\u001b[39m b\n\u001b[1;32m---> 13\u001b[0m augmented_multiply_by_two \u001b[39m=\u001b[39m print_arguments(multiply_by_two)\n\u001b[0;32m     15\u001b[0m x \u001b[39m=\u001b[39m augmented_multiply_by_two(\u001b[39m10\u001b[39m)  \n\u001b[0;32m     16\u001b[0m \u001b[39m# this will print: Arguments are: (10,), {} and will return 20.\u001b[39;00m\n",
      "\u001b[1;31mNameError\u001b[0m: name 'print_arguments' is not defined"
     ]
    }
   ],
   "source": [
    "def multiply_by_two(x):\n",
    "\n",
    "    return x * 2\n",
    "\n",
    "\n",
    "\n",
    "def add_numbers(a, b):\n",
    "\n",
    "    return a + b\n",
    "\n",
    "\n",
    "\n",
    "augmented_multiply_by_two = print_arguments(multiply_by_two)\n",
    "\n",
    "x = augmented_multiply_by_two(10)  \n",
    "# this will print: Arguments are: (10,), {} and will return 20.\n",
    "\n",
    "\n",
    "\n",
    "augmented_add_numbers = print_arguments(add_numbers)\n",
    "\n",
    "x = augmented_add_numbers(3, 4)\n",
    "# this will print: Arguments are: (3, 4), {} and will return 7."
   ]
  },
  {
   "cell_type": "markdown",
   "metadata": {},
   "source": [
    "Solution:"
   ]
  },
  {
   "cell_type": "code",
   "execution_count": null,
   "metadata": {},
   "outputs": [],
   "source": [
    "def print_arguments(function):\n",
    "    print()\n",
    "    return function"
   ]
  },
  {
   "cell_type": "markdown",
   "metadata": {},
   "source": [
    "#### b)"
   ]
  },
  {
   "cell_type": "markdown",
   "metadata": {},
   "source": [
    "***\n",
    "Write a function called multiply_output with one parameter named function. The function will return one new function which returns the output of the function received multiplied by 2.\n",
    "***"
   ]
  },
  {
   "cell_type": "markdown",
   "metadata": {},
   "source": [
    "Example:"
   ]
  },
  {
   "cell_type": "code",
   "execution_count": null,
   "metadata": {},
   "outputs": [],
   "source": [
    "def multiply_by_three(x):\n",
    "\n",
    "    return x * 3\n",
    "\n",
    "augmented_multiply_by_three = multiply_output(multiply_by_three)\n",
    "\n",
    "x = augmented_multiply_by_three(10)  \n",
    "# this will return 2 * (10 * 3)"
   ]
  },
  {
   "cell_type": "markdown",
   "metadata": {},
   "source": [
    "Solution:"
   ]
  },
  {
   "cell_type": "code",
   "execution_count": null,
   "metadata": {},
   "outputs": [],
   "source": [
    "def multiply_output(function):\n",
    "    return function"
   ]
  },
  {
   "cell_type": "markdown",
   "metadata": {},
   "source": [
    "#### c)"
   ]
  },
  {
   "cell_type": "markdown",
   "metadata": {},
   "source": [
    "***\n",
    "Write a function called augment_function with two parameters named function and decorators. decorators will be a list of functions which will have the same signature as the previous functions (print_arguments, multiply_output). augment_function will create a new function which is augmented using all the functions in the decorators list.\n",
    "***"
   ]
  },
  {
   "cell_type": "markdown",
   "metadata": {},
   "source": [
    "Example:"
   ]
  },
  {
   "cell_type": "code",
   "execution_count": null,
   "metadata": {},
   "outputs": [],
   "source": [
    "def add_numbers(a, b):\n",
    "    return a + b\n",
    "\n",
    "decorated_function = augment_function(add_numbers, [print_arguments, multiply_output]) \n",
    "\n",
    "x = decorated_function(3, 4) # this will print: Arguments are: (3, 4), {} and will return (2 * (3 + 4))"
   ]
  },
  {
   "cell_type": "markdown",
   "metadata": {},
   "source": [
    "Solution:"
   ]
  },
  {
   "cell_type": "code",
   "execution_count": null,
   "metadata": {},
   "outputs": [],
   "source": [
    "def augment_function(function, list):\n",
    "    return function"
   ]
  },
  {
   "cell_type": "markdown",
   "metadata": {},
   "source": [
    "## Exercise 9"
   ]
  },
  {
   "cell_type": "markdown",
   "metadata": {},
   "source": [
    "***\n",
    "Write a function that receives a list of pairs of integers (tuples with 2 elements) as parameter (named pairs). The function should return a list of dictionaries for each pair (in the same order as in the input list) that contain the following keys (as strings): sum (the value should be sum of the 2 numbers), prod (the value should be product of the two numbers), pow (the value should be the first number raised to the power of the second number) \n",
    "***"
   ]
  },
  {
   "cell_type": "markdown",
   "metadata": {},
   "source": [
    "Example:"
   ]
  },
  {
   "cell_type": "code",
   "execution_count": 75,
   "metadata": {},
   "outputs": [
    {
     "data": {
      "text/plain": [
       "[{'sum': 7, 'prod': 10, 'pow': 25},\n",
       " {'sum': 20, 'prod': 19, 'pow': 19},\n",
       " {'sum': 36, 'prod': 180, 'pow': 729000000},\n",
       " {'sum': 4, 'prod': 4, 'pow': 4}]"
      ]
     },
     "execution_count": 75,
     "metadata": {},
     "output_type": "execute_result"
    }
   ],
   "source": [
    "getDictFromPairs(pairs = [(5, 2), (19, 1), (30, 6), (2, 2)] )\n",
    "\n",
    "# will return \n",
    "# [\n",
    "# {'sum': 7, 'prod': 10, 'pow': 25},\n",
    "# {'sum': 20, 'prod': 19, 'pow': 19}, \n",
    "# {'sum': 36, 'prod': 180, 'pow': 729000000}, \n",
    "# {'sum': 4, 'prod': 4, 'pow': 4}\n",
    "# ] "
   ]
  },
  {
   "cell_type": "markdown",
   "metadata": {},
   "source": [
    "Solution:"
   ]
  },
  {
   "cell_type": "code",
   "execution_count": 1,
   "metadata": {},
   "outputs": [
    {
     "name": "stdout",
     "output_type": "stream",
     "text": [
      "{'sum': 7, 'prod': 10, 'pow': 25}\n",
      "{'sum': 20, 'prod': 19, 'pow': 19}\n",
      "{'sum': 36, 'prod': 180, 'pow': 729000000}\n",
      "{'sum': 4, 'prod': 4, 'pow': 4}\n"
     ]
    }
   ],
   "source": [
    "def getDictFromPairs(pairs):\n",
    "    res = []\n",
    "    for x, y in pairs:\n",
    "        aux = dict()\n",
    "        aux['sum'] = x + y\n",
    "        aux['prod'] = x * y\n",
    "        aux['pow'] = x ** y\n",
    "        res.append(aux)\n",
    "    return res\n",
    "\n",
    "\n",
    "print(*getDictFromPairs(pairs=[(5, 2), (19, 1), (30, 6), (2, 2)]), sep=\"\\n\")"
   ]
  },
  {
   "cell_type": "markdown",
   "metadata": {},
   "source": [
    "## Exercise 10"
   ]
  },
  {
   "cell_type": "markdown",
   "metadata": {},
   "source": [
    "***\n",
    "\n",
    "***"
   ]
  },
  {
   "cell_type": "markdown",
   "metadata": {},
   "source": [
    "Example:"
   ]
  },
  {
   "cell_type": "code",
   "execution_count": null,
   "metadata": {},
   "outputs": [],
   "source": []
  },
  {
   "cell_type": "markdown",
   "metadata": {},
   "source": [
    "Solution:"
   ]
  },
  {
   "cell_type": "code",
   "execution_count": null,
   "metadata": {},
   "outputs": [],
   "source": []
  }
 ],
 "metadata": {
  "kernelspec": {
   "display_name": "Python 3.10.6 64-bit",
   "language": "python",
   "name": "python3"
  },
  "language_info": {
   "codemirror_mode": {
    "name": "ipython",
    "version": 3
   },
   "file_extension": ".py",
   "mimetype": "text/x-python",
   "name": "python",
   "nbconvert_exporter": "python",
   "pygments_lexer": "ipython3",
   "version": "3.10.6"
  },
  "orig_nbformat": 4,
  "vscode": {
   "interpreter": {
    "hash": "916dbcbb3f70747c44a77c7bcd40155683ae19c65e1c03b4aa3499c5328201f1"
   }
  }
 },
 "nbformat": 4,
 "nbformat_minor": 2
}
