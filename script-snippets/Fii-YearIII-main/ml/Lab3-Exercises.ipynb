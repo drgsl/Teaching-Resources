{
 "cells": [
  {
   "cell_type": "markdown",
   "metadata": {},
   "source": [
    "# Introduction to Information Theory\n",
    "\n",
    "## Exercise 1\n",
    "\n",
    "(entropy, implementation)\n",
    "\n",
    "Consider two fair dice with 6 sides each.\n",
    "\n",
    "1. Print the probability distribution of the sum $S$ of the numbers obtained by throwing the two dice.\n",
    "1. What is the information content in bits of the events $S=2$, $S=11$, $S=5$, $S=7$.\n",
    "1. Calculate the entropy of S.\n",
    "1. Lets say you throw the die one at a time, and the first die shows 4. What is the entropy of S after this observation? Was any information gained/lost in the process of observing the outcome of the first die toss? If so, calculate how much information (in bits) was lost or gained."
   ]
  },
  {
   "cell_type": "markdown",
   "metadata": {},
   "source": [
    "## Exercise 2\n",
    "\n",
    "(information gain, implementation or analysis)\n",
    "\n",
    "Given the dataset below, calculate the information gain for the target variable 'Edible' and each feature ('Weight', 'Smell', 'Spots', 'Smooth'):"
   ]
  },
  {
   "cell_type": "code",
   "execution_count": 1,
   "metadata": {},
   "outputs": [
    {
     "name": "stdout",
     "output_type": "stream",
     "text": [
      "   Weight  Smell  Spots  Smooth  Edible\n",
      "A       1      0      0       0       1\n",
      "B       1      0      1       0       1\n",
      "C       0      1      0       1       1\n",
      "D       0      0      0       1       0\n",
      "E       1      1      1       0       0\n",
      "F       1      0      1       1       0\n",
      "G       1      0      0       1       0\n",
      "H       0      1      0       0       0\n"
     ]
    }
   ],
   "source": [
    "import pandas as pd\n",
    "features = ['Weight', 'Smell', 'Spots', 'Smooth', 'Edible']\n",
    "mushrooms = pd.DataFrame([\n",
    "  (1, 0, 0, 0, 1),\n",
    "  (1, 0, 1, 0, 1),\n",
    "  (0, 1, 0, 1, 1),\n",
    "  (0, 0, 0, 1, 0),\n",
    "  (1, 1, 1, 0, 0),\n",
    "  (1, 0, 1, 1, 0),\n",
    "  (1, 0, 0, 1, 0),\n",
    "  (0, 1, 0, 0, 0)\n",
    "],\n",
    "index=['A', 'B', 'C', 'D', 'E', 'F', 'G', 'H'],\n",
    "columns=features)\n",
    "print(mushrooms)"
   ]
  },
  {
   "cell_type": "markdown",
   "metadata": {},
   "source": [
    "## Exercise 3\n",
    "\n",
    "(entropy and information gain, implementation or analysis)\n",
    "\n",
    "The following code simulates the season results for football team F:"
   ]
  },
  {
   "cell_type": "code",
   "execution_count": 2,
   "metadata": {},
   "outputs": [
    {
     "data": {
      "text/html": [
       "<div>\n",
       "<style scoped>\n",
       "    .dataframe tbody tr th:only-of-type {\n",
       "        vertical-align: middle;\n",
       "    }\n",
       "\n",
       "    .dataframe tbody tr th {\n",
       "        vertical-align: top;\n",
       "    }\n",
       "\n",
       "    .dataframe thead th {\n",
       "        text-align: right;\n",
       "    }\n",
       "</style>\n",
       "<table border=\"1\" class=\"dataframe\">\n",
       "  <thead>\n",
       "    <tr style=\"text-align: right;\">\n",
       "      <th></th>\n",
       "      <th>opponent</th>\n",
       "      <th>stadium</th>\n",
       "      <th>result</th>\n",
       "    </tr>\n",
       "  </thead>\n",
       "  <tbody>\n",
       "    <tr>\n",
       "      <th>0</th>\n",
       "      <td>Team A</td>\n",
       "      <td>Home</td>\n",
       "      <td>Win</td>\n",
       "    </tr>\n",
       "    <tr>\n",
       "      <th>1</th>\n",
       "      <td>Team A</td>\n",
       "      <td>Away</td>\n",
       "      <td>Draw</td>\n",
       "    </tr>\n",
       "    <tr>\n",
       "      <th>2</th>\n",
       "      <td>Team B</td>\n",
       "      <td>Home</td>\n",
       "      <td>Draw</td>\n",
       "    </tr>\n",
       "    <tr>\n",
       "      <th>3</th>\n",
       "      <td>Team B</td>\n",
       "      <td>Away</td>\n",
       "      <td>Win</td>\n",
       "    </tr>\n",
       "    <tr>\n",
       "      <th>4</th>\n",
       "      <td>Team C</td>\n",
       "      <td>Home</td>\n",
       "      <td>Loss</td>\n",
       "    </tr>\n",
       "    <tr>\n",
       "      <th>5</th>\n",
       "      <td>Team C</td>\n",
       "      <td>Away</td>\n",
       "      <td>Loss</td>\n",
       "    </tr>\n",
       "    <tr>\n",
       "      <th>6</th>\n",
       "      <td>Team D</td>\n",
       "      <td>Home</td>\n",
       "      <td>Loss</td>\n",
       "    </tr>\n",
       "    <tr>\n",
       "      <th>7</th>\n",
       "      <td>Team D</td>\n",
       "      <td>Away</td>\n",
       "      <td>Draw</td>\n",
       "    </tr>\n",
       "    <tr>\n",
       "      <th>8</th>\n",
       "      <td>Team E</td>\n",
       "      <td>Home</td>\n",
       "      <td>Win</td>\n",
       "    </tr>\n",
       "    <tr>\n",
       "      <th>9</th>\n",
       "      <td>Team E</td>\n",
       "      <td>Away</td>\n",
       "      <td>Win</td>\n",
       "    </tr>\n",
       "    <tr>\n",
       "      <th>10</th>\n",
       "      <td>Team A</td>\n",
       "      <td>Home</td>\n",
       "      <td>Draw</td>\n",
       "    </tr>\n",
       "    <tr>\n",
       "      <th>11</th>\n",
       "      <td>Team A</td>\n",
       "      <td>Away</td>\n",
       "      <td>Loss</td>\n",
       "    </tr>\n",
       "    <tr>\n",
       "      <th>12</th>\n",
       "      <td>Team B</td>\n",
       "      <td>Home</td>\n",
       "      <td>Draw</td>\n",
       "    </tr>\n",
       "    <tr>\n",
       "      <th>13</th>\n",
       "      <td>Team B</td>\n",
       "      <td>Away</td>\n",
       "      <td>Win</td>\n",
       "    </tr>\n",
       "    <tr>\n",
       "      <th>14</th>\n",
       "      <td>Team C</td>\n",
       "      <td>Home</td>\n",
       "      <td>Loss</td>\n",
       "    </tr>\n",
       "    <tr>\n",
       "      <th>15</th>\n",
       "      <td>Team C</td>\n",
       "      <td>Away</td>\n",
       "      <td>Draw</td>\n",
       "    </tr>\n",
       "    <tr>\n",
       "      <th>16</th>\n",
       "      <td>Team D</td>\n",
       "      <td>Home</td>\n",
       "      <td>Win</td>\n",
       "    </tr>\n",
       "    <tr>\n",
       "      <th>17</th>\n",
       "      <td>Team D</td>\n",
       "      <td>Away</td>\n",
       "      <td>Draw</td>\n",
       "    </tr>\n",
       "    <tr>\n",
       "      <th>18</th>\n",
       "      <td>Team E</td>\n",
       "      <td>Home</td>\n",
       "      <td>Draw</td>\n",
       "    </tr>\n",
       "    <tr>\n",
       "      <th>19</th>\n",
       "      <td>Team E</td>\n",
       "      <td>Away</td>\n",
       "      <td>Win</td>\n",
       "    </tr>\n",
       "  </tbody>\n",
       "</table>\n",
       "</div>"
      ],
      "text/plain": [
       "   opponent stadium result\n",
       "0    Team A    Home    Win\n",
       "1    Team A    Away   Draw\n",
       "2    Team B    Home   Draw\n",
       "3    Team B    Away    Win\n",
       "4    Team C    Home   Loss\n",
       "5    Team C    Away   Loss\n",
       "6    Team D    Home   Loss\n",
       "7    Team D    Away   Draw\n",
       "8    Team E    Home    Win\n",
       "9    Team E    Away    Win\n",
       "10   Team A    Home   Draw\n",
       "11   Team A    Away   Loss\n",
       "12   Team B    Home   Draw\n",
       "13   Team B    Away    Win\n",
       "14   Team C    Home   Loss\n",
       "15   Team C    Away   Draw\n",
       "16   Team D    Home    Win\n",
       "17   Team D    Away   Draw\n",
       "18   Team E    Home   Draw\n",
       "19   Team E    Away    Win"
      ]
     },
     "execution_count": 2,
     "metadata": {},
     "output_type": "execute_result"
    }
   ],
   "source": [
    "from itertools import product\n",
    "import pandas as pd\n",
    "import random\n",
    "random.seed(1)\n",
    "opponents = ['Team '+chr(ord('A') + i) for i in range(5)]\n",
    "stadiums = ['Home', 'Away']\n",
    "games = pd.DataFrame(list(product(opponents, stadiums))*2,\n",
    "                     columns=['opponent', 'stadium'])\n",
    "games['result'] = random.choices([\"Win\", \"Loss\", \"Draw\"],\n",
    "                                 k=len(games))\n",
    "games"
   ]
  },
  {
   "cell_type": "markdown",
   "metadata": {},
   "source": [
    "1. What is the entropy of the `result` $H(result)$ (ignoring all other variables)?\n",
    "1. What are the average conditional entropies $H(result | stadium)$ and $H(result | opponent)$?\n",
    "1. Which of the two variables is more important in deciding the result of a game? Answer this question by calculating the information gain for the two variables: $IG(result; stadium)$ and $IG(result;opponent)$."
   ]
  },
  {
   "cell_type": "markdown",
   "metadata": {},
   "source": [
    "# Exercise 4\n",
    "\n",
    "(entropy, implementation or analysis)\n",
    "\n",
    "Consider the random variable $C$ \"a person has a cold\" and the random variable $T$ \"outside temperature\". The joint distribution of the two variables is given below:"
   ]
  },
  {
   "cell_type": "code",
   "execution_count": 3,
   "metadata": {},
   "outputs": [
    {
     "data": {
      "text/html": [
       "<div>\n",
       "<style scoped>\n",
       "    .dataframe tbody tr th:only-of-type {\n",
       "        vertical-align: middle;\n",
       "    }\n",
       "\n",
       "    .dataframe tbody tr th {\n",
       "        vertical-align: top;\n",
       "    }\n",
       "\n",
       "    .dataframe thead th {\n",
       "        text-align: right;\n",
       "    }\n",
       "</style>\n",
       "<table border=\"1\" class=\"dataframe\">\n",
       "  <thead>\n",
       "    <tr style=\"text-align: right;\">\n",
       "      <th></th>\n",
       "      <th>T_Sunny</th>\n",
       "      <th>T_Rainy</th>\n",
       "      <th>T_Snowy</th>\n",
       "    </tr>\n",
       "  </thead>\n",
       "  <tbody>\n",
       "    <tr>\n",
       "      <th>C_No</th>\n",
       "      <td>0.30</td>\n",
       "      <td>0.20</td>\n",
       "      <td>0.1</td>\n",
       "    </tr>\n",
       "    <tr>\n",
       "      <th>C_Yes</th>\n",
       "      <td>0.05</td>\n",
       "      <td>0.15</td>\n",
       "      <td>0.2</td>\n",
       "    </tr>\n",
       "  </tbody>\n",
       "</table>\n",
       "</div>"
      ],
      "text/plain": [
       "       T_Sunny  T_Rainy  T_Snowy\n",
       "C_No      0.30     0.20      0.1\n",
       "C_Yes     0.05     0.15      0.2"
      ]
     },
     "execution_count": 3,
     "metadata": {},
     "output_type": "execute_result"
    }
   ],
   "source": [
    "import pandas as pd\n",
    "d = pd.DataFrame({'T_Sunny': [0.3, 0.05], \n",
    "                  'T_Rainy': [0.2, 0.15], \n",
    "                  'T_Snowy': [0.1, 0.2]}, \n",
    "                 index=['C_No', 'C_Yes'])\n",
    "d"
   ]
  },
  {
   "cell_type": "markdown",
   "metadata": {},
   "source": [
    "1. Plot the pmf of $C$ and $T$.\n",
    "1. Calculate $H(C)$, $H(T)$.\n",
    "1. Calculate $H(C|T)$, $H(T|C)$. Does the temperature (T) reduce the uncertainty regarding someone having a cold (C)?"
   ]
  },
  {
   "cell_type": "markdown",
   "metadata": {},
   "source": [
    "# Exercise 5\n",
    "\n",
    "(decision tree, implementation)\n",
    "\n",
    "Consider the Boolean expression $A \\lor (B \\land C)$. The corresponding truth table can be generated with:"
   ]
  },
  {
   "cell_type": "code",
   "execution_count": 4,
   "metadata": {},
   "outputs": [],
   "source": [
    "from itertools import product\n",
    "X = [list(c) for c in product([0,1], repeat=3)]\n",
    "y = [A or (B and C) for A, B, C in X]"
   ]
  },
  {
   "cell_type": "markdown",
   "metadata": {},
   "source": [
    "1. Fit a decision tree classifier on the truth table above and visualise the resulting tree. Make sure to use the entropy as a metric.\n",
    "1. Is the tree above optimal? Can you find a decision tree with fewer levels or nodes that correctly represents this function?"
   ]
  }
 ],
 "metadata": {
  "kernelspec": {
   "display_name": "Python 3",
   "language": "python",
   "name": "python3"
  },
  "language_info": {
   "codemirror_mode": {
    "name": "ipython",
    "version": 3
   },
   "file_extension": ".py",
   "mimetype": "text/x-python",
   "name": "python",
   "nbconvert_exporter": "python",
   "pygments_lexer": "ipython3",
   "version": "3.7.5"
  }
 },
 "nbformat": 4,
 "nbformat_minor": 4
}
