{
 "cells": [
  {
   "cell_type": "markdown",
   "metadata": {},
   "source": [
    "# Elementary Notions in Statistics"
   ]
  },
  {
   "cell_type": "markdown",
   "metadata": {},
   "source": [
    "## Exercise 1\n",
    "(Random variables, implementation)\n",
    "\n",
    "Give an example of a a real phenomenon modelled by the following discrete distributions and plot an illustrative pmf for that phenomenon using `matplotlib` and `scipy.stats` functions:\n",
    "\n",
    "1. binomial;\n",
    "2. geometric."
   ]
  },
  {
   "cell_type": "markdown",
   "metadata": {},
   "source": [
    "## Exercise 2\n",
    "(Random variables, implementation)\n",
    "\n",
    "Give an example of a real phenomenon modelled by the following discrete distributions and plot an illustrative pdf for that phenomenon using `matplotlib` and `scipy.stats` functions:\n",
    "\n",
    "1. gamma;\n",
    "2. Pareto."
   ]
  },
  {
   "cell_type": "markdown",
   "metadata": {},
   "source": [
    "## Exercise 3\n",
    "\n",
    "(Random variables, implementation)\n",
    "\n",
    "Suppose you measure the temperature 10 consecutive days with a thermometer that has a small random error. \n",
    "\n",
    "1. What is the mean temperature, knowing that the mean error is +1°C and the measurements are those in the variable Y below.\n",
    "2. You have a second thermometer with a Fahrenheit scale ($T_{(°F)} = T_{(°C)} × 1.8 + 32$). The variance of the measurements of this thermometer (in Fahrenheit) is 8. Is this higher or lower than the variance shown by the first one?"
   ]
  },
  {
   "cell_type": "code",
   "execution_count": 1,
   "metadata": {},
   "outputs": [],
   "source": [
    "Y = [21, 20, 22, 23, 20, 19, 19, 18, 19, 20]\n",
    "\n",
    "# Your code here"
   ]
  },
  {
   "cell_type": "markdown",
   "metadata": {},
   "source": [
    "## Exercise 4\n",
    "(Random variable, implementation)\n",
    "\n",
    "Let $S$ be the outcome of a random variable describing the sum of two dice thrown independently.\n",
    "\n",
    "1. Print the probability distribution of $S$ graphically.\n",
    "1. Determine $E[S]$ and $Var(S)$."
   ]
  },
  {
   "cell_type": "markdown",
   "metadata": {},
   "source": [
    "# Exercise 5\n",
    "(Random variable, conceptual)\n",
    "\n",
    "The probability distribution of a discrete random variable $X$ is given by\n",
    "\n",
    "$P(X=-1)=1/5, P(X=0)=2/5, P(X=1)=2/5$.\n",
    "\n",
    "1. Compute $E[X]$.\n",
    "1. Give the probability distribution of $Y=X^2$ and compute $E[Y]$ using the distribution of $Y$.\n",
    "1. Determine $E[X^2]$ using the change-of-variable formula. Check your answer against the answer in 2.\n",
    "1. Determine $Var(X)$."
   ]
  },
  {
   "cell_type": "markdown",
   "metadata": {},
   "source": [
    "# Exercise 6\n",
    "(binomial distribution, applied)\n",
    "\n",
    "A sailor is trying to walk on a slippery deck, but because of the movements of the ship, he can make exactly one step every second, either forward (with probability $p=0.5$) or backward (with probability $1-p=0.5$). Using the `scipy.stats.binom` package, determine the probability that the sailor is in position +8 after 16 seconds."
   ]
  },
  {
   "cell_type": "markdown",
   "metadata": {},
   "source": [
    "## Exercise 7\n",
    "(geometric distribution, applied)\n",
    "\n",
    "In order to finish a board game, a player must get an exact 3 on a regular die. Using the `scipy.stats.geom` package, determine how many tries will it take to win the game (on average)? What are the best and worst cases?"
   ]
  },
  {
   "cell_type": "markdown",
   "metadata": {},
   "source": [
    "## Exercise 8\n",
    "(gamma distribution, applied)\n",
    "\n",
    "The grades from an exam roughly follow a Gamma distribution with parameters $k=9$ (shape parameter) and $\\theta=0.5$ (scale parameter). Using the `scipy.stats.gamma` package, determine what percentage of students will pass the exam, if the minimum score is 3."
   ]
  }
 ],
 "metadata": {
  "kernelspec": {
   "display_name": "Python 3",
   "language": "python",
   "name": "python3"
  },
  "language_info": {
   "codemirror_mode": {
    "name": "ipython",
    "version": 3
   },
   "file_extension": ".py",
   "mimetype": "text/x-python",
   "name": "python",
   "nbconvert_exporter": "python",
   "pygments_lexer": "ipython3",
   "version": "3.7.5"
  }
 },
 "nbformat": 4,
 "nbformat_minor": 4
}
