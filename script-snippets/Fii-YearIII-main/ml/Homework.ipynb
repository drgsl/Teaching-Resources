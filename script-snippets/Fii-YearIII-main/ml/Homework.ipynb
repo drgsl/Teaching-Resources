{
 "cells": [
  {
   "cell_type": "markdown",
   "id": "044dc450-8772-43ec-92ef-8ad6ed454b13",
   "metadata": {},
   "source": [
    "# What is my homework?"
   ]
  },
  {
   "cell_type": "code",
   "execution_count": 2,
   "id": "67163e92-9054-4df2-afa9-5e00f9ce5171",
   "metadata": {},
   "outputs": [
    {
     "name": "stdout",
     "output_type": "stream",
     "text": [
      "Your homework for lab 1: 5, 8.\n",
      "Your homework for lab 2: 3, 6.\n",
      "Your homework for lab 3: 1, 3.\n",
      "Your homework for lab 4: 2, 5.\n",
      "Your homework for lab 5: 2, 4.\n",
      "Your homework for lab 6: 2, 4.\n",
      "Your homework for lab 7: 5, 6.\n",
      "No homework assigned for this lab!\n",
      "Your homework for lab 9: 2, 3.\n",
      "Your homework for lab 10: 1, 3.\n",
      "Your homework for lab 11: 1, 3.\n",
      "Your homework for lab 12: 4, 5.\n",
      "Your homework for lab 13: 3.\n"
     ]
    }
   ],
   "source": [
    "import pandas as pd\n",
    "from hashlib import sha1\n",
    "\n",
    "def what_is_my_homework(email: str, lab_no: int):\n",
    "    \"\"\"\n",
    "    What is my assigned homework for the given lab?\n",
    "    \n",
    "    Print a message that displays the assigned homework for a specific\n",
    "    email and a specific lab.\n",
    "    \n",
    "    Parameters\n",
    "    ----------\n",
    "    email : string\n",
    "        The email you provided at the beginning of the semester.\n",
    "    lab_no : int\n",
    "        The lab number for which to assign homework.\n",
    "        \n",
    "    Examples\n",
    "    --------\n",
    "    >>> what_is_my_homework('my_email@example.com', 1)\n",
    "    Your homework for lab 1: 1, 7.\n",
    "    \"\"\"\n",
    "    df = pd.read_csv(\"tools/hw.csv\")\n",
    "    if lab_no not in df['Lab'].unique():\n",
    "        print(\"No homework assigned for this lab!\")\n",
    "        return\n",
    "    df_lab = df[df['Lab'] == lab_no]\n",
    "    key = (email+str(lab_no)).encode(\"utf-8\")\n",
    "    idx = int(sha1(key).hexdigest(), 16) % 2**10\n",
    "    hw = df_lab.sample(n=1, random_state=idx).iloc[0, 1]\n",
    "    print(f\"Your homework for lab {lab_no}: {hw}.\")\n",
    "\n",
    "for i in range(1, 14):\n",
    "    what_is_my_homework('bobudragos1@gmail.com', i)"
   ]
  }
 ],
 "metadata": {
  "kernelspec": {
   "display_name": "Python 3.10.6 64-bit",
   "language": "python",
   "name": "python3"
  },
  "language_info": {
   "codemirror_mode": {
    "name": "ipython",
    "version": 3
   },
   "file_extension": ".py",
   "mimetype": "text/x-python",
   "name": "python",
   "nbconvert_exporter": "python",
   "pygments_lexer": "ipython3",
   "version": "3.10.6"
  },
  "vscode": {
   "interpreter": {
    "hash": "916dbcbb3f70747c44a77c7bcd40155683ae19c65e1c03b4aa3499c5328201f1"
   }
  }
 },
 "nbformat": 4,
 "nbformat_minor": 5
}
