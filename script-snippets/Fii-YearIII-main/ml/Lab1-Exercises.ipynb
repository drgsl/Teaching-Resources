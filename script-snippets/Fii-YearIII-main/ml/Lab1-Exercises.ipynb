{
 "cells": [
  {
   "cell_type": "markdown",
   "metadata": {},
   "source": [
    "# Elementary Probability Notions"
   ]
  },
  {
   "cell_type": "markdown",
   "metadata": {},
   "source": [
    "## Exercise 1\n",
    "(Events, implementation)\n",
    "\n",
    "Illustrate DeMorgan's laws using the `plot_venn()` function and standard Python set operations:\n",
    "1. $\\neg (A\\cup B) = \\neg A \\cap \\neg B$\n",
    "1. $\\neg (A\\cap B) = \\neg A \\cup \\neg B$"
   ]
  },
  {
   "cell_type": "code",
   "execution_count": 2,
   "metadata": {},
   "outputs": [],
   "source": [
    "# from tools.venn import A, B, omega, plot_venn\n",
    "# First law\n",
    "\n",
    "# Second law"
   ]
  },
  {
   "cell_type": "markdown",
   "metadata": {},
   "source": [
    "## Exercise 2\n",
    "(Product of sample spaces, implementation)\n",
    "\n",
    "Two dice are thrown simultaneously. Calculate the probability that the sum is 11."
   ]
  },
  {
   "cell_type": "code",
   "execution_count": 3,
   "metadata": {},
   "outputs": [],
   "source": [
    "from itertools import product\n",
    "\n",
    "# Code here"
   ]
  },
  {
   "cell_type": "markdown",
   "metadata": {},
   "source": [
    "## Exercise 3\n",
    "(Conditional probabilities, implementation)\n",
    "\n",
    "The event S represents the sum of two dice. What is the probability that S=11 knowing that S is a prime?"
   ]
  },
  {
   "cell_type": "code",
   "execution_count": 4,
   "metadata": {},
   "outputs": [],
   "source": [
    "from itertools import product\n",
    "\n",
    "# Code here"
   ]
  },
  {
   "cell_type": "markdown",
   "metadata": {},
   "source": [
    "## Exercise 4 - Monty Hall problem\n",
    "(Bayes' theorem, implementation and analysis)\n",
    "\n",
    "Suppose you are in a game show and you're given the choice of three doors; behind one is a car, behind the others, goats. You pick door no. 1, but don't open it. The game host (who knows what is behind each door) then opens a door which always has a goat (in this case opens door no. 2) and asks you if you still want to open door no.1 or you want to switch to no.3. \n",
    "\n",
    "What are the probabilities of finding the car in the two cases?\n",
    "\n",
    "1. Create a Python simulation for 1000 games to estimate the answer.\n",
    "2. Find the answer using the `tool.stats.probability_weighted` function (see [this approach](http://web.mit.edu/neboat/Public/6.042/probabilityintro.pdf) for constructing the sample space).\n",
    "3. Find the answer mathematically by applying Bayes' theorem and the law of total probability."
   ]
  },
  {
   "cell_type": "markdown",
   "metadata": {},
   "source": [
    "## Exercise 5\n",
    "(Probabilities, analysis)\n",
    "\n",
    "Using the definition of the probability, prove that:\n",
    "\n",
    "1. $P(\\neg A) = 1-P(A)$\n",
    "1. $A \\subseteq B \\Rightarrow P(A) \\leq P(B)$\n",
    "\n",
    "## Exercise 6\n",
    "(Probabilities, analysis)\n",
    "\n",
    "Using the definition of the probability, prove that:\n",
    "\n",
    "1. $P(A \\setminus B) = P(A) - P(A \\cap B)$\n",
    "1. $P(A \\cup B) = P(A) + P(B) - P(A \\cap B)$"
   ]
  },
  {
   "cell_type": "markdown",
   "metadata": {},
   "source": [
    "## Exercise 7\n",
    "\n",
    "(Independent events, analysis)\n",
    "\n",
    "Two soldiers A and B are doing target practice. The probability that soldier A misses is 1/5. The probability that soldier B misses is 1/2. Probability that both miss at the same time is 1/10.\n",
    "\n",
    "1. Are the two events independent?\n",
    "1. What is the probability that at least one of the soldiers misses?\n",
    "1. What is the probability that exactly one of the soldiers misses?"
   ]
  },
  {
   "cell_type": "markdown",
   "metadata": {},
   "source": [
    "## Exercise 8\n",
    "(Independent events, implementation)\n",
    "\n",
    "Consider the event space corresponding to two tosses of a fair coin, and the events A \"heads on toss 1\", B \"heads on toss 2\" and C \"the two tosses are equal\". Using the `tools.stats.probability` function, find if:\n",
    "\n",
    "1. events A and B are independent;\n",
    "1. events A and C are independent."
   ]
  },
  {
   "cell_type": "code",
   "execution_count": 5,
   "metadata": {},
   "outputs": [],
   "source": [
    "from tools.stats import probability\n",
    "\n",
    "# Code here"
   ]
  }
 ],
 "metadata": {
  "kernelspec": {
   "display_name": "Python 3.11.0 64-bit",
   "language": "python",
   "name": "python3"
  },
  "language_info": {
   "codemirror_mode": {
    "name": "ipython",
    "version": 3
   },
   "file_extension": ".py",
   "mimetype": "text/x-python",
   "name": "python",
   "nbconvert_exporter": "python",
   "pygments_lexer": "ipython3",
   "version": "3.11.0"
  },
  "vscode": {
   "interpreter": {
    "hash": "c261aea317cc0286b3b3261fbba9abdec21eaa57589985bb7a274bf54d6cc0a7"
   }
  }
 },
 "nbformat": 4,
 "nbformat_minor": 4
}
